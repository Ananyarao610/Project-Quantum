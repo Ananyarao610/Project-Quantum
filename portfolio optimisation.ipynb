{
 "cells": [
  {
   "cell_type": "code",
   "execution_count": 146,
   "id": "7fa07d0b",
   "metadata": {},
   "outputs": [],
   "source": [
    "import os                              \n",
    "import numpy as np\n",
    "from numpy import number                    \n",
    "import pandas as pd                     \n",
    "import matplotlib.pyplot as plt  \n",
    "import math\n",
    "from typing import List\n",
    "from azure.quantum.optimization import Problem, ProblemType, Term\n",
    "from azure.quantum.optimization import ParallelTempering\n",
    "from azure.quantum.optimization import Term, SlcTerm"
   ]
  },
  {
   "cell_type": "markdown",
   "id": "041b44fb",
   "metadata": {},
   "source": [
    "<h3 style=\"color:blue;\"> Data Preprocessing </h3>"
   ]
  },
  {
   "cell_type": "code",
   "execution_count": 147,
   "id": "58e664e9",
   "metadata": {},
   "outputs": [
    {
     "name": "stdout",
     "output_type": "stream",
     "text": [
      "['ADANIENT', 'ADANIGREEN', 'ADANIPORTS', 'ADANIPOWER', 'ADANITRANS', 'ASIANPAINT', 'ATGL', 'AXISBANK', 'BAJAJ-AUTO', 'BAJAJFINSV', 'BAJFINANCE', 'BHARTIARTL', 'BRITANNIA', 'COALINDIA', 'DABUR', 'DIVISLAB', 'DMART', 'HCLTECH', 'HDFC', 'HDFCBANK', 'HDFCLIFE', 'HINDUNILVR', 'HINDZINC', 'ICICIBANK', 'INFY', 'IOC', 'ITC', 'JSWSTEEL', 'KOTAKBANK', 'LT', 'M&M', 'MARUTI', 'NESTLEIND', 'NTPC', 'ONGC', 'PIDILITIND', 'POWERGRID', 'RELIANCE', 'SBILIFE', 'SBIN', 'SIEMENS', 'SUNPHARMA', 'TATAMOTORS', 'TATASTEEL', 'TCS', 'TECHM', 'TITAN', 'ULTRACEMCO', 'WIPRO']\n"
     ]
    }
   ],
   "source": [
    "stocks = [stock.split('.')[0] for stock in sorted(os.listdir(\"Datasets/Bombay Stock Exchange Top 50 (last 20 years data)\"))]\n",
    "stocks = stocks[1:]\n",
    "\n",
    "print(stocks)"
   ]
  },
  {
   "cell_type": "code",
   "execution_count": 148,
   "id": "df17cc58",
   "metadata": {},
   "outputs": [],
   "source": [
    "dates = pd.date_range('2020-06-27', '2022-05-27') \n",
    "data = pd.DataFrame({'Time': dates})\n"
   ]
  },
  {
   "cell_type": "code",
   "execution_count": 156,
   "id": "7cb2e095",
   "metadata": {},
   "outputs": [],
   "source": [
    "for stock in stocks:\n",
    "    prices = pd.read_csv(\"Datasets/Bombay Stock Exchange Top 50 (last 20 years data)/\"+stock+\".csv\", usecols=['Date', 'WAP'])\n",
    "    #print(prices)\n",
    "    prices['Date'] = pd.to_datetime(prices['Date'], dayfirst = True)  \n",
    "    #print(prices)\n",
    "    prices.rename(                                                            \n",
    "        columns={\"Date\": \"Time\", \"WAP\": stock},\n",
    "        inplace=True\n",
    "    )\n",
    "    data = pd.merge(data,prices)\n"
   ]
  },
  {
   "cell_type": "code",
   "execution_count": 157,
   "id": "5567c0fa",
   "metadata": {},
   "outputs": [],
   "source": [
    "cp = data .drop(['Time'], axis=1).tail(1).to_numpy()\n",
    "cp = cp[0]"
   ]
  },
  {
   "cell_type": "code",
   "execution_count": 158,
   "id": "b885b00c",
   "metadata": {},
   "outputs": [],
   "source": [
    "# Calculating daily returns for each stock\n",
    "\n",
    "r = data[(data['Time'] >= '2020-06-27')] \\\n",
    "    .drop(['Time'], axis=1) \\\n",
    "    .pct_change(fill_method='ffill')\n"
   ]
  },
  {
   "cell_type": "code",
   "execution_count": 159,
   "id": "98938e7d",
   "metadata": {},
   "outputs": [],
   "source": [
    "# Calculating mean and covariance matrix for each stocks\n",
    "mu = r.mean().to_numpy()\n",
    "sigma = r.cov().to_numpy()\n",
    "n=len(stocks)"
   ]
  },
  {
   "cell_type": "code",
   "execution_count": 160,
   "id": "1a89ae28",
   "metadata": {},
   "outputs": [],
   "source": [
    "'''\n",
    "from azure.quantum import Workspace\n",
    "workspace = Workspace (\n",
    "    subscription_id = \"e87e6b08-4913-4522-9206-ba18a56ee0fa\",\n",
    "    resource_group = \"AzureQuantum\",\n",
    "    name = \"MTCProjectQuantumSharique\",\n",
    "    location = \"East US\"\n",
    ")\n",
    "\n",
    "\n",
    "from azure.quantum import Workspace\n",
    "workspace = Workspace (\n",
    "    subscription_id = \"6e02aef9-2670-4418-92b8-7659cf5605d2\",\n",
    "    resource_group = \"azurequantum\",\n",
    "    name = \"workspace1\",\n",
    "    location = \"japaneast\"\n",
    ")\n",
    "'''\n",
    "\n",
    "from azure.quantum import Workspace\n",
    "workspace = Workspace (\n",
    "    subscription_id = \"ad18d2e0-288d-409a-bc11-5231714f4fb8\",\n",
    "    resource_group = \"rg-mtc-poc-quantum\",\n",
    "    name = \"ws-mtc-poc-quantum\",\n",
    "    location = \"japaneast\"\n",
    ")\n",
    "\n"
   ]
  },
  {
   "cell_type": "markdown",
   "id": "8c1a7bb7",
   "metadata": {},
   "source": [
    "<h3 style=\"color:blue;\">Optimized Portfolio </h3>"
   ]
  },
  {
   "cell_type": "code",
   "execution_count": 161,
   "id": "e75d5b77",
   "metadata": {},
   "outputs": [],
   "source": [
    "import functions"
   ]
  },
  {
   "cell_type": "code",
   "execution_count": 162,
   "id": "8aa2e30b",
   "metadata": {},
   "outputs": [
    {
     "name": "stdout",
     "output_type": "stream",
     "text": [
      "Number of terms in return:  49\n",
      "Number of terms in risk:  2401\n",
      "...."
     ]
    }
   ],
   "source": [
    "\n",
    "t1= functions.return_terms(mu,n)\n",
    "t2= functions.risk(sigma, n, 1)\n",
    "terms=[]\n",
    "terms=t1+t2\n",
    "problem = Problem(name=\"Portfolio optimization\", problem_type=ProblemType.pubo, terms=terms)\n",
    "solver = ParallelTempering(workspace)\n",
    "solution = solver.optimize(problem)\n"
   ]
  },
  {
   "cell_type": "code",
   "execution_count": 163,
   "id": "99f47b00",
   "metadata": {},
   "outputs": [
    {
     "name": "stdout",
     "output_type": "stream",
     "text": [
      "{'0': 1, '1': 1, '2': 0, '3': 1, '4': 1, '5': 0, '6': 1, '7': 0, '8': 0, '9': 0, '10': 0, '11': 0, '12': 0, '13': 0, '14': 0, '15': 0, '16': 0, '17': 0, '18': 0, '19': 0, '20': 0, '21': 0, '22': 0, '23': 0, '24': 1, '25': 0, '26': 0, '27': 1, '28': 0, '29': 0, '30': 0, '31': 0, '32': 0, '33': 0, '34': 0, '35': 0, '36': 0, '37': 0, '38': 0, '39': 1, '40': 1, '41': 1, '42': 1, '43': 1, '44': 0, '45': 1, '46': 1, '47': 0, '48': 1}\n",
      "\n",
      "Selected stocks are -\n",
      " ['ADANIENT', 'ADANIGREEN', 'ADANIPOWER', 'ADANITRANS', 'ATGL', 'INFY', 'JSWSTEEL', 'SBIN', 'SIEMENS', 'SUNPHARMA', 'TATAMOTORS', 'TATASTEEL', 'TECHM', 'TITAN', 'WIPRO']\n",
      "\n",
      "Price of selected stocks are -\n",
      " [2070.0593123381705, 2175.5634118259386, 324.9441561175404, 2148.1660402684565, 2418.4302410036316, 1455.220770671192, 548.9821474924378, 470.32481588044175, 2367.7135457135455, 901.0188212463532, 429.0204163091215, 1047.8110535645603, 1114.4954922105685, 2140.019082601684, 463.4882399473741]\n"
     ]
    }
   ],
   "source": [
    "print(solution['configuration'])\n",
    "result = solution['configuration']\n",
    "#print(type(result))\n",
    "\n",
    "selected_stocks=[]\n",
    "prices_selected=[]\n",
    "index_prices_selected= []\n",
    "\n",
    "daily_prices = data.drop(['Time'], axis=1).to_numpy()\n",
    "#print(daily_prices)\n",
    "\n",
    "for i in result.keys():\n",
    "    if result[i]:\n",
    "        selected_stocks.append(stocks[int(i)])\n",
    "        prices_selected.append(cp[int(i)])\n",
    "        index_prices_selected.append(int(i))\n",
    "        \n",
    "print(\"\\nSelected stocks are -\\n\", selected_stocks)\n",
    "\n",
    "print(\"\\nPrice of selected stocks are -\\n\", prices_selected)"
   ]
  },
  {
   "cell_type": "code",
   "execution_count": 164,
   "id": "8b68f064",
   "metadata": {},
   "outputs": [],
   "source": [
    "Budget = 1000000\n",
    "risk_aversion_index = 1\n",
    "daily_returns = functions.find_expected_daily_return(mu,selected_stocks,index_prices_selected)\n",
    "annual_returns_percent = round((daily_returns*252 *100),3)\n",
    "annual_returns = round(Budget+ (daily_returns*252*Budget),1)\n",
    "risk_percent = round(functions.find_risk(selected_stocks,n,result,sigma)*(252**0.5),4)"
   ]
  },
  {
   "cell_type": "code",
   "execution_count": 165,
   "id": "020ddd1e",
   "metadata": {},
   "outputs": [
    {
     "name": "stdout",
     "output_type": "stream",
     "text": [
      "OPTIMIZSED PORTFOLIO :\n",
      "\n",
      "ADANIENT  :  32  shares\n",
      "ADANIGREEN  :  30  shares\n",
      "ADANIPOWER  :  205  shares\n",
      "ADANITRANS  :  31  shares\n",
      "ATGL  :  27  shares\n",
      "INFY  :  45  shares\n",
      "JSWSTEEL  :  121  shares\n",
      "SBIN  :  141  shares\n",
      "SIEMENS  :  28  shares\n",
      "SUNPHARMA  :  73  shares\n",
      "TATAMOTORS  :  155  shares\n",
      "TATASTEEL  :  63  shares\n",
      "TECHM  :  59  shares\n",
      "TITAN  :  31  shares\n",
      "WIPRO  :  143  shares\n",
      "Expected Annual Return on Investment :  79.036 %\n",
      "\n",
      "Constraints:\n",
      "\n",
      "Budget :  ₹ 1000000\n",
      "Risk Aversion index of : 1 \n",
      "\n",
      "Expected Annual Return:  ₹ 1790362.3\n",
      "Annual Risk percentage:  21.3926 %\n"
     ]
    }
   ],
   "source": [
    "# Printing results\n",
    "print(\"OPTIMIZSED PORTFOLIO :\\n\")\n",
    "no_of_shares = functions.distributed_budget(1000000, arr= selected_stocks, cp=cp, index_prices_selected= index_prices_selected)\n",
    "print(\"Expected Annual Return on Investment : \", annual_returns_percent, \"%\")\n",
    "print(\"\\nConstraints:\")\n",
    "print(\"\\nBudget : \",  u\"\\u20B9\", Budget)\n",
    "print(\"Risk Aversion index of :\" , risk_aversion_index,\"\\n\")\n",
    "print(\"Expected Annual Return: \",  u\"\\u20B9\", annual_returns)\n",
    "print(\"Annual Risk percentage: \", risk_percent ,\"%\")"
   ]
  },
  {
   "cell_type": "markdown",
   "id": "f3b8024a",
   "metadata": {},
   "source": [
    "<h3 style=\"color:blue;\"> Diversified Portfolio </h3>\n",
    "Selecting a portfolio after applying a budget constraint which restricts number\n",
    "of stocks."
   ]
  },
  {
   "cell_type": "code",
   "execution_count": 166,
   "id": "31f0fa39",
   "metadata": {},
   "outputs": [
    {
     "name": "stdout",
     "output_type": "stream",
     "text": [
      "Number of terms in return:  49\n",
      "Number of terms in risk:  2401\n",
      "......."
     ]
    }
   ],
   "source": [
    "terms=[]\n",
    "t1 = functions.return_terms(mu,n)\n",
    "t2 = functions.risk(sigma,n,1)\n",
    "t3 = functions.budget_constraint(2*n,n,15)\n",
    "terms= t1+ t2 + t3\n",
    "problem = Problem(name=\"Portfolio optimization\", problem_type=ProblemType.pubo, terms=terms)\n",
    "solver = ParallelTempering(workspace)\n",
    "solution = solver.optimize(problem)"
   ]
  },
  {
   "cell_type": "code",
   "execution_count": 167,
   "id": "9a8f5a52",
   "metadata": {},
   "outputs": [
    {
     "name": "stdout",
     "output_type": "stream",
     "text": [
      "{'0': 1, '1': 1, '2': 0, '3': 1, '4': 1, '5': 1, '6': 1, '7': 0, '8': 0, '9': 0, '10': 0, '11': 0, '12': 0, '13': 0, '14': 0, '15': 0, '16': 0, '17': 1, '18': 0, '19': 0, '20': 0, '21': 0, '22': 0, '23': 0, '24': 0, '25': 0, '26': 0, '27': 0, '28': 0, '29': 0, '30': 0, '31': 0, '32': 0, '33': 0, '34': 0, '35': 0, '36': 0, '37': 1, '38': 1, '39': 1, '40': 0, '41': 1, '42': 1, '43': 1, '44': 0, '45': 1, '46': 0, '47': 0, '48': 1}\n",
      "\n",
      "Selected stocks are -\n",
      " ['ADANIENT', 'ADANIGREEN', 'ADANIPOWER', 'ADANITRANS', 'ASIANPAINT', 'ATGL', 'HCLTECH', 'RELIANCE', 'SBILIFE', 'SBIN', 'SUNPHARMA', 'TATAMOTORS', 'TATASTEEL', 'TECHM', 'WIPRO']\n",
      "\n",
      "Price of selected stocks are -\n",
      " [0, 1, 3, 4, 5, 6, 17, 37, 38, 39, 41, 42, 43, 45, 48]\n"
     ]
    }
   ],
   "source": [
    "print(solution['configuration'])\n",
    "result = solution['configuration']\n",
    "\n",
    "selected_stocks=[]\n",
    "prices_selected=[]\n",
    "index_prices_selected= []\n",
    "\n",
    "daily_prices = data.drop(['Time'], axis=1).to_numpy()\n",
    "\n",
    "\n",
    "for i in result.keys():\n",
    "    if result[i]:\n",
    "        selected_stocks.append(stocks[int(i)])\n",
    "        prices_selected.append(cp[int(i)])\n",
    "        index_prices_selected.append(int(i))\n",
    "        \n",
    "print(\"\\nSelected stocks are -\\n\", selected_stocks)\n",
    "\n",
    "print(\"\\nPrice of selected stocks are -\\n\", index_prices_selected)"
   ]
  },
  {
   "cell_type": "code",
   "execution_count": 168,
   "id": "e7b8df59",
   "metadata": {},
   "outputs": [],
   "source": [
    "Budget = 1000000\n",
    "risk_aversion_index = 1\n",
    "stock_appetite = 15\n",
    "daily_returns = functions.find_expected_daily_return(mu,selected_stocks,index_prices_selected)\n",
    "annual_returns_percent = round((daily_returns*252 *100),3)\n",
    "annual_returns = round(Budget+ (daily_returns*252*Budget),1)\n",
    "risk_percent = round(functions.find_risk(selected_stocks,n,result,sigma)*(252**0.5),4)\n"
   ]
  },
  {
   "cell_type": "code",
   "execution_count": 169,
   "id": "95f754e0",
   "metadata": {},
   "outputs": [
    {
     "name": "stdout",
     "output_type": "stream",
     "text": [
      "\n",
      " DIVERSIFIED PORTFOLIO:\n",
      "\n",
      "ADANIENT  :  32  shares\n",
      "ADANIGREEN  :  30  shares\n",
      "ADANIPOWER  :  205  shares\n",
      "ADANITRANS  :  31  shares\n",
      "ASIANPAINT  :  23  shares\n",
      "ATGL  :  27  shares\n",
      "HCLTECH  :  66  shares\n",
      "RELIANCE  :  25  shares\n",
      "SBILIFE  :  59  shares\n",
      "SBIN  :  141  shares\n",
      "SUNPHARMA  :  73  shares\n",
      "TATAMOTORS  :  155  shares\n",
      "TATASTEEL  :  63  shares\n",
      "TECHM  :  59  shares\n",
      "WIPRO  :  143  shares\n",
      "\n",
      "Constraints:\n",
      "\n",
      "Budget :  ₹ 1000000\n",
      "Stock Appetite:  15  stocks\n",
      "Risk Aversion index of : 1 \n",
      "\n",
      "Expected Annual Return on Investment :  73.644 %\n",
      "Expected Annual Return:  ₹ 1736440.8\n",
      "Annual Risk percentage:  20.5064 %\n"
     ]
    }
   ],
   "source": [
    "# Printing results\n",
    "\n",
    "print(\"\\n DIVERSIFIED PORTFOLIO:\\n\")\n",
    "no_of_shares = functions.distributed_budget(1000000, selected_stocks, cp, index_prices_selected)\n",
    "\n",
    "print(\"\\nConstraints:\")\n",
    "print(\"\\nBudget : \",  u\"\\u20B9\", Budget)\n",
    "print(\"Stock Appetite: \", stock_appetite , \" stocks\")\n",
    "print(\"Risk Aversion index of :\" , 1,\"\\n\")\n",
    "print(\"Expected Annual Return on Investment : \", annual_returns_percent, \"%\")\n",
    "print(\"Expected Annual Return: \",  u\"\\u20B9\", annual_returns)\n",
    "print(\"Annual Risk percentage: \", risk_percent ,\"%\")\n"
   ]
  },
  {
   "cell_type": "markdown",
   "id": "b8d17483",
   "metadata": {},
   "source": [
    "<h3 style=\"color:blue;\"> Validation </h3>\n",
    "Verification of the predicted returns with the actual returns of the coming month"
   ]
  },
  {
   "cell_type": "code",
   "execution_count": 170,
   "id": "365493ff",
   "metadata": {},
   "outputs": [],
   "source": [
    "dates = pd.date_range('2022-05-27', '2022-06-27')\n",
    "data_actual=  pd.DataFrame({'Time': dates})\n"
   ]
  },
  {
   "cell_type": "code",
   "execution_count": 171,
   "id": "af81f467",
   "metadata": {},
   "outputs": [],
   "source": [
    "def predicting_performance(data_actual):\n",
    "\n",
    "    for stock in stocks:\n",
    "        prices = pd.read_csv(\"Datasets/Bombay Stock Exchange Top 50 (last 20 years data)/\"+stock+\".csv\", usecols=['Date', 'WAP'])\n",
    "        prices['Date'] = pd.to_datetime(prices['Date'], dayfirst = True)  \n",
    "        prices.rename(                                                            \n",
    "            columns={\"Date\": \"Time\", \"WAP\": stock},\n",
    "            inplace=True\n",
    "        )\n",
    "        data_actual = pd.merge(data_actual,prices)\n",
    "    return data_actual\n",
    "data_actual=predicting_performance(data_actual)"
   ]
  },
  {
   "cell_type": "code",
   "execution_count": 172,
   "id": "44676821",
   "metadata": {},
   "outputs": [],
   "source": [
    "cp_actual = data_actual .drop(['Time'], axis=1).tail(1).to_numpy()\n",
    "cp_actual = cp_actual[0]"
   ]
  },
  {
   "cell_type": "code",
   "execution_count": 173,
   "id": "b8e6d080",
   "metadata": {},
   "outputs": [],
   "source": [
    "market_price=[]\n",
    "for i in index_prices_selected:\n",
    "    market_price.append(cp_actual[i])"
   ]
  },
  {
   "cell_type": "code",
   "execution_count": 174,
   "id": "4d7a29e4",
   "metadata": {},
   "outputs": [
    {
     "name": "stdout",
     "output_type": "stream",
     "text": [
      "\n",
      "Actual Monthly Return on Investment:  7.795599520559737 %\n",
      "\n",
      "Predicted Monthly Returns on investment:  6.4292448542798875 %\n"
     ]
    }
   ],
   "source": [
    "\n",
    "current_value_of_investment=1000000\n",
    "for i in range(len(market_price)):\n",
    "    current_value_of_investment = current_value_of_investment + (market_price[i] * no_of_shares[i])\n",
    "\n",
    "print(\"\\nActual Monthly Return on Investment: \", (((current_value_of_investment-1000000)/1000000)*100) /12, \"%\")\n",
    "\n",
    "print(\"\\nPredicted Monthly Returns on investment: \", daily_returns*22*100, \"%\")"
   ]
  },
  {
   "cell_type": "code",
   "execution_count": 175,
   "id": "f78be670",
   "metadata": {},
   "outputs": [
    {
     "name": "stdout",
     "output_type": "stream",
     "text": [
      "\n",
      "Predicted Monthly Returns on investment:  9.052058798084547 %\n"
     ]
    }
   ],
   "source": [
    "print(\"\\nPredicted Monthly Returns on investment: \", (((1+ daily_returns)**252)-1)*100/12, \"%\")"
   ]
  }
 ],
 "metadata": {
  "kernelspec": {
   "display_name": "Python 3.9.12 ('qsharp-env')",
   "language": "python",
   "name": "python3"
  },
  "language_info": {
   "codemirror_mode": {
    "name": "ipython",
    "version": 3
   },
   "file_extension": ".py",
   "mimetype": "text/x-python",
   "name": "python",
   "nbconvert_exporter": "python",
   "pygments_lexer": "ipython3",
   "version": "3.8.10"
  },
  "vscode": {
   "interpreter": {
    "hash": "a0c90c5f8d186b65746168799a0a49669e5748d92ec2b103a15f0f0e36a3d9f3"
   }
  }
 },
 "nbformat": 4,
 "nbformat_minor": 5
}
