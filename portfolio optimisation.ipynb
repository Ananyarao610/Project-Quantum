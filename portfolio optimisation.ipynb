{
 "cells": [
  {
   "cell_type": "code",
   "execution_count": 1,
   "id": "7fa07d0b",
   "metadata": {},
   "outputs": [],
   "source": [
    "import os                              \n",
    "import numpy as np\n",
    "from numpy import number                    \n",
    "import pandas as pd                     \n",
    "import matplotlib.pyplot as plt  \n",
    "import math\n",
    "from typing import List\n",
    "from azure.quantum.optimization import Problem, ProblemType, Term\n",
    "from azure.quantum.optimization import ParallelTempering\n",
    "from azure.quantum.optimization import Term, SlcTerm"
   ]
  },
  {
   "cell_type": "markdown",
   "id": "041b44fb",
   "metadata": {},
   "source": [
    "<h3 style=\"color:blue;\"> Data Preprocessing </h3>"
   ]
  },
  {
   "cell_type": "code",
   "execution_count": 2,
   "id": "58e664e9",
   "metadata": {},
   "outputs": [
    {
     "name": "stdout",
     "output_type": "stream",
     "text": [
      "['ADANIENT', 'ADANIGREEN', 'ADANIPORTS', 'ADANIPOWER', 'ADANITRANS', 'ASIANPAINT', 'ATGL', 'AXISBANK', 'BAJAJ-AUTO', 'BAJAJFINSV', 'BAJFINANCE', 'BHARTIARTL', 'BRITANNIA', 'COALINDIA', 'DABUR', 'DIVISLAB', 'DMART', 'HCLTECH', 'HDFC', 'HDFCBANK', 'HDFCLIFE', 'HINDUNILVR', 'HINDZINC', 'ICICIBANK', 'INFY', 'IOC', 'ITC', 'JSWSTEEL', 'KOTAKBANK', 'LT', 'M&M', 'MARUTI', 'NESTLEIND', 'NTPC', 'ONGC', 'PIDILITIND', 'POWERGRID', 'RELIANCE', 'SBILIFE', 'SBIN', 'SIEMENS', 'SUNPHARMA', 'TATAMOTORS', 'TATASTEEL', 'TCS', 'TECHM', 'TITAN', 'ULTRACEMCO', 'WIPRO']\n"
     ]
    }
   ],
   "source": [
    "stocks = [stock.split('.')[0] for stock in sorted(os.listdir(\"Datasets/Bombay Stock Exchange Top 50 (last 20 years data)\"))]\n",
    "stocks = stocks[1:]\n",
    "\n",
    "print(stocks)"
   ]
  },
  {
   "cell_type": "code",
   "execution_count": 3,
   "id": "df17cc58",
   "metadata": {},
   "outputs": [],
   "source": [
    "dates = pd.date_range('2020-06-27', '2022-06-27') \n",
    "data = pd.DataFrame({'Time': dates})\n"
   ]
  },
  {
   "cell_type": "code",
   "execution_count": 4,
   "id": "7cb2e095",
   "metadata": {},
   "outputs": [],
   "source": [
    "for stock in stocks:\n",
    "    prices = pd.read_csv(\"Datasets/Bombay Stock Exchange Top 50 (last 20 years data)/\"+stock+\".csv\", usecols=['Date', 'WAP'])\n",
    "    #print(prices)\n",
    "    prices['Date'] = pd.to_datetime(prices['Date'], dayfirst = True)  \n",
    "    #print(prices)\n",
    "    prices.rename(                                                            \n",
    "        columns={\"Date\": \"Time\", \"WAP\": stock},\n",
    "        inplace=True\n",
    "    )\n",
    "    data = pd.merge(data,prices)\n"
   ]
  },
  {
   "cell_type": "code",
   "execution_count": 5,
   "id": "5567c0fa",
   "metadata": {},
   "outputs": [],
   "source": [
    "\n",
    "cp = data .drop(['Time'], axis=1).tail(1).to_numpy()\n",
    "cp = cp[0]"
   ]
  },
  {
   "cell_type": "code",
   "execution_count": 6,
   "id": "b885b00c",
   "metadata": {},
   "outputs": [
    {
     "data": {
      "text/html": [
       "<div>\n",
       "<style scoped>\n",
       "    .dataframe tbody tr th:only-of-type {\n",
       "        vertical-align: middle;\n",
       "    }\n",
       "\n",
       "    .dataframe tbody tr th {\n",
       "        vertical-align: top;\n",
       "    }\n",
       "\n",
       "    .dataframe thead th {\n",
       "        text-align: right;\n",
       "    }\n",
       "</style>\n",
       "<table border=\"1\" class=\"dataframe\">\n",
       "  <thead>\n",
       "    <tr style=\"text-align: right;\">\n",
       "      <th></th>\n",
       "      <th>ADANIENT</th>\n",
       "      <th>ADANIGREEN</th>\n",
       "      <th>ADANIPORTS</th>\n",
       "      <th>ADANIPOWER</th>\n",
       "      <th>ADANITRANS</th>\n",
       "      <th>ASIANPAINT</th>\n",
       "      <th>ATGL</th>\n",
       "      <th>AXISBANK</th>\n",
       "      <th>BAJAJ-AUTO</th>\n",
       "      <th>BAJAJFINSV</th>\n",
       "      <th>...</th>\n",
       "      <th>SBIN</th>\n",
       "      <th>SIEMENS</th>\n",
       "      <th>SUNPHARMA</th>\n",
       "      <th>TATAMOTORS</th>\n",
       "      <th>TATASTEEL</th>\n",
       "      <th>TCS</th>\n",
       "      <th>TECHM</th>\n",
       "      <th>TITAN</th>\n",
       "      <th>ULTRACEMCO</th>\n",
       "      <th>WIPRO</th>\n",
       "    </tr>\n",
       "  </thead>\n",
       "  <tbody>\n",
       "    <tr>\n",
       "      <th>0</th>\n",
       "      <td>NaN</td>\n",
       "      <td>NaN</td>\n",
       "      <td>NaN</td>\n",
       "      <td>NaN</td>\n",
       "      <td>NaN</td>\n",
       "      <td>NaN</td>\n",
       "      <td>NaN</td>\n",
       "      <td>NaN</td>\n",
       "      <td>NaN</td>\n",
       "      <td>NaN</td>\n",
       "      <td>...</td>\n",
       "      <td>NaN</td>\n",
       "      <td>NaN</td>\n",
       "      <td>NaN</td>\n",
       "      <td>NaN</td>\n",
       "      <td>NaN</td>\n",
       "      <td>NaN</td>\n",
       "      <td>NaN</td>\n",
       "      <td>NaN</td>\n",
       "      <td>NaN</td>\n",
       "      <td>NaN</td>\n",
       "    </tr>\n",
       "    <tr>\n",
       "      <th>1</th>\n",
       "      <td>-0.003303</td>\n",
       "      <td>-0.049927</td>\n",
       "      <td>0.014850</td>\n",
       "      <td>-0.004988</td>\n",
       "      <td>-0.037398</td>\n",
       "      <td>0.005966</td>\n",
       "      <td>-0.015178</td>\n",
       "      <td>0.006920</td>\n",
       "      <td>0.005066</td>\n",
       "      <td>0.011924</td>\n",
       "      <td>...</td>\n",
       "      <td>0.000865</td>\n",
       "      <td>0.007351</td>\n",
       "      <td>-0.017048</td>\n",
       "      <td>0.000601</td>\n",
       "      <td>0.047004</td>\n",
       "      <td>-0.003164</td>\n",
       "      <td>-0.000443</td>\n",
       "      <td>0.010112</td>\n",
       "      <td>0.021308</td>\n",
       "      <td>-0.007733</td>\n",
       "    </tr>\n",
       "    <tr>\n",
       "      <th>2</th>\n",
       "      <td>-0.010636</td>\n",
       "      <td>-0.049903</td>\n",
       "      <td>-0.006293</td>\n",
       "      <td>-0.009519</td>\n",
       "      <td>0.007948</td>\n",
       "      <td>-0.006665</td>\n",
       "      <td>-0.002781</td>\n",
       "      <td>0.035394</td>\n",
       "      <td>-0.002453</td>\n",
       "      <td>0.016905</td>\n",
       "      <td>...</td>\n",
       "      <td>0.014059</td>\n",
       "      <td>-0.015242</td>\n",
       "      <td>-0.008919</td>\n",
       "      <td>0.004799</td>\n",
       "      <td>-0.025907</td>\n",
       "      <td>0.001420</td>\n",
       "      <td>-0.005275</td>\n",
       "      <td>-0.004628</td>\n",
       "      <td>0.004782</td>\n",
       "      <td>-0.002084</td>\n",
       "    </tr>\n",
       "    <tr>\n",
       "      <th>3</th>\n",
       "      <td>0.007015</td>\n",
       "      <td>-0.000395</td>\n",
       "      <td>0.007715</td>\n",
       "      <td>0.002276</td>\n",
       "      <td>0.010551</td>\n",
       "      <td>-0.002579</td>\n",
       "      <td>0.047833</td>\n",
       "      <td>0.009497</td>\n",
       "      <td>0.007152</td>\n",
       "      <td>0.033348</td>\n",
       "      <td>...</td>\n",
       "      <td>0.018608</td>\n",
       "      <td>0.004666</td>\n",
       "      <td>0.005206</td>\n",
       "      <td>0.016795</td>\n",
       "      <td>0.021360</td>\n",
       "      <td>0.020015</td>\n",
       "      <td>0.022206</td>\n",
       "      <td>0.021991</td>\n",
       "      <td>0.004248</td>\n",
       "      <td>0.021089</td>\n",
       "    </tr>\n",
       "    <tr>\n",
       "      <th>4</th>\n",
       "      <td>0.017205</td>\n",
       "      <td>0.102695</td>\n",
       "      <td>0.041561</td>\n",
       "      <td>-0.001960</td>\n",
       "      <td>-0.013318</td>\n",
       "      <td>0.011123</td>\n",
       "      <td>-0.009999</td>\n",
       "      <td>-0.001076</td>\n",
       "      <td>0.021797</td>\n",
       "      <td>-0.001638</td>\n",
       "      <td>...</td>\n",
       "      <td>-0.006828</td>\n",
       "      <td>0.035929</td>\n",
       "      <td>0.009218</td>\n",
       "      <td>0.029517</td>\n",
       "      <td>0.005488</td>\n",
       "      <td>0.021521</td>\n",
       "      <td>0.022392</td>\n",
       "      <td>0.023023</td>\n",
       "      <td>0.000064</td>\n",
       "      <td>0.006637</td>\n",
       "    </tr>\n",
       "  </tbody>\n",
       "</table>\n",
       "<p>5 rows × 49 columns</p>\n",
       "</div>"
      ],
      "text/plain": [
       "   ADANIENT  ADANIGREEN  ADANIPORTS  ADANIPOWER  ADANITRANS  ASIANPAINT  \\\n",
       "0       NaN         NaN         NaN         NaN         NaN         NaN   \n",
       "1 -0.003303   -0.049927    0.014850   -0.004988   -0.037398    0.005966   \n",
       "2 -0.010636   -0.049903   -0.006293   -0.009519    0.007948   -0.006665   \n",
       "3  0.007015   -0.000395    0.007715    0.002276    0.010551   -0.002579   \n",
       "4  0.017205    0.102695    0.041561   -0.001960   -0.013318    0.011123   \n",
       "\n",
       "       ATGL  AXISBANK  BAJAJ-AUTO  BAJAJFINSV  ...      SBIN   SIEMENS  \\\n",
       "0       NaN       NaN         NaN         NaN  ...       NaN       NaN   \n",
       "1 -0.015178  0.006920    0.005066    0.011924  ...  0.000865  0.007351   \n",
       "2 -0.002781  0.035394   -0.002453    0.016905  ...  0.014059 -0.015242   \n",
       "3  0.047833  0.009497    0.007152    0.033348  ...  0.018608  0.004666   \n",
       "4 -0.009999 -0.001076    0.021797   -0.001638  ... -0.006828  0.035929   \n",
       "\n",
       "   SUNPHARMA  TATAMOTORS  TATASTEEL       TCS     TECHM     TITAN  ULTRACEMCO  \\\n",
       "0        NaN         NaN        NaN       NaN       NaN       NaN         NaN   \n",
       "1  -0.017048    0.000601   0.047004 -0.003164 -0.000443  0.010112    0.021308   \n",
       "2  -0.008919    0.004799  -0.025907  0.001420 -0.005275 -0.004628    0.004782   \n",
       "3   0.005206    0.016795   0.021360  0.020015  0.022206  0.021991    0.004248   \n",
       "4   0.009218    0.029517   0.005488  0.021521  0.022392  0.023023    0.000064   \n",
       "\n",
       "      WIPRO  \n",
       "0       NaN  \n",
       "1 -0.007733  \n",
       "2 -0.002084  \n",
       "3  0.021089  \n",
       "4  0.006637  \n",
       "\n",
       "[5 rows x 49 columns]"
      ]
     },
     "execution_count": 6,
     "metadata": {},
     "output_type": "execute_result"
    }
   ],
   "source": [
    "# Calculating daily returns for each stock\n",
    "r = data[(data['Time'] >= '2020-06-27')] \\\n",
    "    .drop(['Time'], axis=1) \\\n",
    "    .pct_change(fill_method='ffill')\n",
    "r.head()"
   ]
  },
  {
   "cell_type": "code",
   "execution_count": 7,
   "id": "98938e7d",
   "metadata": {},
   "outputs": [],
   "source": [
    "# Calculating mean and covariance matrix for each stocks\n",
    "mu = r.mean().to_numpy()\n",
    "sigma = r.cov().to_numpy()\n",
    "n=len(stocks)"
   ]
  },
  {
   "cell_type": "code",
   "execution_count": 8,
   "id": "1a89ae28",
   "metadata": {},
   "outputs": [],
   "source": [
    "'''\n",
    "from azure.quantum import Workspace\n",
    "workspace = Workspace (\n",
    "    subscription_id = \"e87e6b08-4913-4522-9206-ba18a56ee0fa\",\n",
    "    resource_group = \"AzureQuantum\",\n",
    "    name = \"MTCProjectQuantumSharique\",\n",
    "    location = \"East US\"\n",
    ")\n",
    "\n",
    "\n",
    "from azure.quantum import Workspace\n",
    "workspace = Workspace (\n",
    "    subscription_id = \"6e02aef9-2670-4418-92b8-7659cf5605d2\",\n",
    "    resource_group = \"azurequantum\",\n",
    "    name = \"workspace1\",\n",
    "    location = \"japaneast\"\n",
    ")\n",
    "'''\n",
    "\n",
    "from azure.quantum import Workspace\n",
    "workspace = Workspace (\n",
    "    subscription_id = \"ad18d2e0-288d-409a-bc11-5231714f4fb8\",\n",
    "    resource_group = \"rg-mtc-poc-quantum\",\n",
    "    name = \"ws-mtc-poc-quantum\",\n",
    "    location = \"japaneast\"\n",
    ")\n",
    "\n"
   ]
  },
  {
   "cell_type": "markdown",
   "id": "8c1a7bb7",
   "metadata": {},
   "source": [
    "<h3 style=\"color:blue;\">Optimized Portfolio </h3>"
   ]
  },
  {
   "cell_type": "code",
   "execution_count": 9,
   "id": "e75d5b77",
   "metadata": {},
   "outputs": [],
   "source": [
    "import functions\n"
   ]
  },
  {
   "cell_type": "code",
   "execution_count": 10,
   "id": "8aa2e30b",
   "metadata": {},
   "outputs": [
    {
     "name": "stdout",
     "output_type": "stream",
     "text": [
      "Number of terms in return:  49\n",
      "Number of terms in risk:  2401\n",
      "......"
     ]
    }
   ],
   "source": [
    "\n",
    "t1= functions.return_terms(mu,n)\n",
    "t2= functions.risk(sigma, n, 1)\n",
    "terms=[]\n",
    "terms=t1+t2\n",
    "problem = Problem(name=\"Portfolio optimization\", problem_type=ProblemType.pubo, terms=terms)\n",
    "solver = ParallelTempering(workspace)\n",
    "solution = solver.optimize(problem)\n"
   ]
  },
  {
   "cell_type": "code",
   "execution_count": 11,
   "id": "99f47b00",
   "metadata": {},
   "outputs": [
    {
     "name": "stdout",
     "output_type": "stream",
     "text": [
      "{'0': 1, '1': 1, '2': 0, '3': 1, '4': 1, '5': 0, '6': 1, '7': 0, '8': 0, '9': 0, '10': 0, '11': 0, '12': 0, '13': 0, '14': 0, '15': 0, '16': 0, '17': 1, '18': 0, '19': 0, '20': 0, '21': 0, '22': 0, '23': 0, '24': 1, '25': 0, '26': 0, '27': 1, '28': 0, '29': 0, '30': 0, '31': 0, '32': 0, '33': 0, '34': 0, '35': 0, '36': 0, '37': 0, '38': 0, '39': 1, '40': 1, '41': 1, '42': 1, '43': 0, '44': 0, '45': 0, '46': 1, '47': 0, '48': 0}\n",
      "\n",
      "Selected stocks are -\n",
      " ['ADANIENT', 'ADANIGREEN', 'ADANIPOWER', 'ADANITRANS', 'ATGL', 'HCLTECH', 'INFY', 'JSWSTEEL', 'SBIN', 'SIEMENS', 'SUNPHARMA', 'TATAMOTORS', 'TITAN']\n",
      "\n",
      "Price of selected stocks are -\n",
      " [2188.648926689398, 1906.6661531149095, 273.4378450035677, 2149.2141705744434, 2295.5344228094573, 997.2557371818474, 1476.0546642603206, 581.4109040683994, 461.347105474746, 2374.566375643609, 842.2730643765593, 415.93760931737654, 2046.4069499762488]\n"
     ]
    }
   ],
   "source": [
    "print(solution['configuration'])\n",
    "result = solution['configuration']\n",
    "#print(type(result))\n",
    "\n",
    "selected_stocks=[]\n",
    "prices_selected=[]\n",
    "index_prices_selected= []\n",
    "\n",
    "daily_prices = data.drop(['Time'], axis=1).to_numpy()\n",
    "#print(daily_prices)\n",
    "\n",
    "for i in result.keys():\n",
    "    if result[i]:\n",
    "        selected_stocks.append(stocks[int(i)])\n",
    "        prices_selected.append(cp[int(i)])\n",
    "        index_prices_selected.append(int(i))\n",
    "        \n",
    "print(\"\\nSelected stocks are -\\n\", selected_stocks)\n",
    "\n",
    "print(\"\\nPrice of selected stocks are -\\n\", prices_selected)"
   ]
  },
  {
   "cell_type": "code",
   "execution_count": 14,
   "id": "8b68f064",
   "metadata": {},
   "outputs": [],
   "source": [
    "Budget = 1000000\n",
    "risk_aversion_index = 1\n",
    "daily_returns = functions.find_expected_daily_return(mu,selected_stocks,index_prices_selected)\n",
    "annual_returns_percent = round((daily_returns*252 *100),3)\n",
    "annual_returns = round(Budget+ (daily_returns*252*Budget),1)\n",
    "risk_percent = round(functions.find_risk(selected_stocks,n,result,sigma)*(252**0.5),4)"
   ]
  },
  {
   "cell_type": "code",
   "execution_count": 16,
   "id": "020ddd1e",
   "metadata": {},
   "outputs": [
    {
     "name": "stdout",
     "output_type": "stream",
     "text": [
      "OPTIMIZSED PORTFOLIO :\n",
      "\n",
      "ADANIENT  :  35  shares\n",
      "ADANIGREEN  :  40  shares\n",
      "ADANIPOWER  :  281  shares\n",
      "ADANITRANS  :  35  shares\n",
      "ATGL  :  33  shares\n",
      "HCLTECH  :  77  shares\n",
      "INFY  :  52  shares\n",
      "JSWSTEEL  :  132  shares\n",
      "SBIN  :  166  shares\n",
      "SIEMENS  :  32  shares\n",
      "SUNPHARMA  :  91  shares\n",
      "TATAMOTORS  :  184  shares\n",
      "TITAN  :  37  shares\n",
      "Expected Annual Return on Investment :  77.261 %\n",
      "\n",
      "Constraints:\n",
      "\n",
      "Budget :  ₹ 1000000\n",
      "Risk Aversion index of : 1 \n",
      "\n",
      "Expected Annual Return:  ₹ 1772609.5\n",
      "Annual Risk percentage:  22.0944 %\n"
     ]
    }
   ],
   "source": [
    "# Printing results\n",
    "print(\"OPTIMIZSED PORTFOLIO :\\n\")\n",
    "no_of_shares = functions.distributed_budget(1000000, arr= selected_stocks, cp=cp, index_prices_selected= index_prices_selected)\n",
    "print(\"Expected Annual Return on Investment : \", annual_returns_percent, \"%\")\n",
    "print(\"\\nConstraints:\")\n",
    "print(\"\\nBudget : \",  u\"\\u20B9\", Budget)\n",
    "print(\"Risk Aversion index of :\" , risk_aversion_index,\"\\n\")\n",
    "print(\"Expected Annual Return: \",  u\"\\u20B9\", annual_returns)\n",
    "print(\"Annual Risk percentage: \", risk_percent ,\"%\")"
   ]
  },
  {
   "cell_type": "markdown",
   "id": "f3b8024a",
   "metadata": {},
   "source": [
    "<h3 style=\"color:blue;\"> Diversified Portfolio </h3>\n",
    "Selecting a portfolio after applying a budget constraint which restricts number\n",
    "of stocks."
   ]
  },
  {
   "cell_type": "code",
   "execution_count": 17,
   "id": "31f0fa39",
   "metadata": {},
   "outputs": [
    {
     "name": "stdout",
     "output_type": "stream",
     "text": [
      "Number of terms in return:  49\n",
      "Number of terms in risk:  2401\n",
      "........"
     ]
    }
   ],
   "source": [
    "terms=[]\n",
    "t1 = functions.return_terms(mu,n)\n",
    "t2 = functions.risk(sigma,n,1)\n",
    "t3 = functions.budget_constraint(2*n,n,15)\n",
    "terms= t1+ t2 + t3\n",
    "problem = Problem(name=\"Portfolio optimization\", problem_type=ProblemType.pubo, terms=terms)\n",
    "solver = ParallelTempering(workspace)\n",
    "solution = solver.optimize(problem)"
   ]
  },
  {
   "cell_type": "code",
   "execution_count": 18,
   "id": "9a8f5a52",
   "metadata": {},
   "outputs": [
    {
     "name": "stdout",
     "output_type": "stream",
     "text": [
      "{'0': 1, '1': 1, '2': 0, '3': 1, '4': 1, '5': 0, '6': 1, '7': 0, '8': 0, '9': 0, '10': 0, '11': 0, '12': 0, '13': 0, '14': 0, '15': 0, '16': 0, '17': 0, '18': 0, '19': 0, '20': 0, '21': 0, '22': 0, '23': 1, '24': 1, '25': 0, '26': 0, '27': 0, '28': 0, '29': 0, '30': 1, '31': 0, '32': 0, '33': 0, '34': 0, '35': 0, '36': 0, '37': 0, '38': 1, '39': 1, '40': 1, '41': 1, '42': 1, '43': 0, '44': 1, '45': 1, '46': 0, '47': 0, '48': 0}\n",
      "\n",
      "Selected stocks are -\n",
      " ['ADANIENT', 'ADANIGREEN', 'ADANIPOWER', 'ADANITRANS', 'ATGL', 'ICICIBANK', 'INFY', 'M&M', 'SBILIFE', 'SBIN', 'SIEMENS', 'SUNPHARMA', 'TATAMOTORS', 'TCS', 'TECHM']\n",
      "\n",
      "Price of selected stocks are -\n",
      " [0, 1, 3, 4, 6, 23, 24, 30, 38, 39, 40, 41, 42, 44, 45]\n"
     ]
    }
   ],
   "source": [
    "print(solution['configuration'])\n",
    "result = solution['configuration']\n",
    "\n",
    "selected_stocks=[]\n",
    "prices_selected=[]\n",
    "index_prices_selected= []\n",
    "\n",
    "daily_prices = data.drop(['Time'], axis=1).to_numpy()\n",
    "\n",
    "\n",
    "for i in result.keys():\n",
    "    if result[i]:\n",
    "        selected_stocks.append(stocks[int(i)])\n",
    "        prices_selected.append(cp[int(i)])\n",
    "        index_prices_selected.append(int(i))\n",
    "        \n",
    "print(\"\\nSelected stocks are -\\n\", selected_stocks)\n",
    "\n",
    "print(\"\\nPrice of selected stocks are -\\n\", index_prices_selected)"
   ]
  },
  {
   "cell_type": "code",
   "execution_count": 21,
   "id": "e7b8df59",
   "metadata": {},
   "outputs": [],
   "source": [
    "Budget = 1000000\n",
    "risk_aversion_index = 1\n",
    "stock_appetite = 15\n",
    "daily_returns = functions.find_expected_daily_return(mu,selected_stocks,index_prices_selected)\n",
    "annual_returns_percent = round((daily_returns*252 *100),3)\n",
    "annual_returns = round(Budget+ (daily_returns*252*Budget),1)\n",
    "risk_percent = round(functions.find_risk(selected_stocks,n,result,sigma)*(252**0.5),4)\n"
   ]
  },
  {
   "cell_type": "code",
   "execution_count": 22,
   "id": "95f754e0",
   "metadata": {},
   "outputs": [
    {
     "name": "stdout",
     "output_type": "stream",
     "text": [
      "\n",
      " DIVERSIFIED PORTFOLIO:\n",
      "ADANIENT  :  30  shares\n",
      "ADANIGREEN  :  34  shares\n",
      "ADANIPOWER  :  243  shares\n",
      "ADANITRANS  :  31  shares\n",
      "ATGL  :  29  shares\n",
      "ICICIBANK  :  92  shares\n",
      "INFY  :  45  shares\n",
      "M&M  :  61  shares\n",
      "SBILIFE  :  61  shares\n",
      "SBIN  :  144  shares\n",
      "SIEMENS  :  28  shares\n",
      "SUNPHARMA  :  79  shares\n",
      "TATAMOTORS  :  160  shares\n",
      "TCS  :  20  shares\n",
      "TECHM  :  65  shares\n",
      "\n",
      "Constraints:\n",
      "\n",
      "Budget :  ₹ 1000000\n",
      "Stock Appetite:  15  stocks\n",
      "Risk Aversion index of : 1 \n",
      "\n",
      "Expected Annual Return on Investment :  68.773 %\n",
      "Expected Annual Return:  ₹ 1687729.5\n",
      "Annual Risk percentage:  20.5419 %\n"
     ]
    }
   ],
   "source": [
    "# Printing results\n",
    "\n",
    "print(\"\\n DIVERSIFIED PORTFOLIO:\")\n",
    "no_of_shares = functions.distributed_budget(1000000, selected_stocks, cp, index_prices_selected)\n",
    "\n",
    "print(\"\\nConstraints:\")\n",
    "print(\"\\nBudget : \",  u\"\\u20B9\", Budget)\n",
    "print(\"Stock Appetite: \", stock_appetite , \" stocks\")\n",
    "print(\"Risk Aversion index of :\" , 1,\"\\n\")\n",
    "print(\"Expected Annual Return on Investment : \", annual_returns_percent, \"%\")\n",
    "print(\"Expected Annual Return: \",  u\"\\u20B9\", annual_returns)\n",
    "print(\"Annual Risk percentage: \", risk_percent ,\"%\")\n"
   ]
  }
 ],
 "metadata": {
  "kernelspec": {
   "display_name": "Python 3.9.12 ('qsharp-env')",
   "language": "python",
   "name": "python3"
  },
  "language_info": {
   "codemirror_mode": {
    "name": "ipython",
    "version": 3
   },
   "file_extension": ".py",
   "mimetype": "text/x-python",
   "name": "python",
   "nbconvert_exporter": "python",
   "pygments_lexer": "ipython3",
   "version": "3.8.10"
  },
  "vscode": {
   "interpreter": {
    "hash": "a0c90c5f8d186b65746168799a0a49669e5748d92ec2b103a15f0f0e36a3d9f3"
   }
  }
 },
 "nbformat": 4,
 "nbformat_minor": 5
}
