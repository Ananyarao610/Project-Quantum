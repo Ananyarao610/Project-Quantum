{
 "cells": [
  {
   "cell_type": "code",
   "execution_count": 16,
   "id": "7fa07d0b",
   "metadata": {},
   "outputs": [],
   "source": [
    "import os                               \n",
    "import numpy as np                    \n",
    "import pandas as pd                     \n",
    "import matplotlib.pyplot as plt  \n",
    "import math\n",
    "from typing import List\n",
    "from azure.quantum.optimization import Problem, ProblemType, Term\n",
    "from azure.quantum.optimization import ParallelTempering\n",
    "from azure.quantum.optimization import Term, SlcTerm\n",
    "import time"
   ]
  },
  {
   "cell_type": "markdown",
   "id": "041b44fb",
   "metadata": {},
   "source": [
    "Data Preprocessing"
   ]
  },
  {
   "cell_type": "code",
   "execution_count": 17,
   "id": "58e664e9",
   "metadata": {},
   "outputs": [
    {
     "name": "stdout",
     "output_type": "stream",
     "text": [
      "['ADANIENT', 'ADANIGREEN', 'ADANIPORTS', 'ADANIPOWER', 'ADANITRANS', 'ASIANPAINT', 'ATGL', 'AXISBANK', 'BAJAJ-AUTO*', 'BAJAJFINSV', 'BAJFINANCE', 'BHARTIARTL', 'BRITANNIA', 'COALINDIA', 'DABUR', 'DIVISLAB', 'DMART', 'HCLTECH', 'HDFC', 'HDFCBANK', 'HDFCLIFE', 'HINDUNILVR', 'HINDZINC', 'ICICIBANK', 'INFY', 'IOC', 'ITC', 'JSWSTEEL', 'KOTAKBANK', 'LICI', 'LT', 'M&M', 'MARUTI', 'NESTLEIND', 'NTPC', 'ONGC', 'PIDILITIND', 'POWERGRID', 'RELIANCE', 'SBILIFE', 'SBIN', 'SIEMENS', 'SUNPHARMA', 'TATAMOTORS', 'TATASTEEL', 'TCS', 'TECHM', 'TITAN', 'ULTRACEMCO', 'WIPRO']\n"
     ]
    }
   ],
   "source": [
    "stocks = [stock.split('.')[0] for stock in sorted(os.listdir(\"Datasets/Bombay Stock Exchange Top 50 (last 20 years data)\"))]\n",
    "    \n",
    "print((stocks))"
   ]
  },
  {
   "cell_type": "code",
   "execution_count": 18,
   "id": "df17cc58",
   "metadata": {},
   "outputs": [],
   "source": [
    "dates = pd.date_range('2022-05-1', '2022-07-01') \n",
    "data = pd.DataFrame({'Time': dates})  \n"
   ]
  },
  {
   "cell_type": "code",
   "execution_count": 19,
   "id": "7cb2e095",
   "metadata": {},
   "outputs": [],
   "source": [
    "for stock in stocks:\n",
    "    prices = pd.read_csv(\"Datasets/Bombay Stock Exchange Top 50 (last 20 years data)/\"+stock+\".csv\", usecols=['Date', 'WAP'])\n",
    "    #print(prices)\n",
    "    prices['Date'] = pd.to_datetime(prices['Date'], dayfirst = True)  \n",
    "    #print(prices)\n",
    "    prices.rename(                                                            \n",
    "        columns={\"Date\": \"Time\", \"WAP\": stock},\n",
    "        inplace=True\n",
    "    )\n",
    "    data = pd.merge(data,prices)\n"
   ]
  },
  {
   "cell_type": "code",
   "execution_count": 20,
   "id": "5567c0fa",
   "metadata": {},
   "outputs": [],
   "source": [
    "cp = data .drop(['Time'], axis=1).tail(1).to_numpy()\n",
    "cp = cp[0]\n"
   ]
  },
  {
   "cell_type": "code",
   "execution_count": 22,
   "id": "b885b00c",
   "metadata": {},
   "outputs": [
    {
     "data": {
      "text/html": [
       "<div>\n",
       "<style scoped>\n",
       "    .dataframe tbody tr th:only-of-type {\n",
       "        vertical-align: middle;\n",
       "    }\n",
       "\n",
       "    .dataframe tbody tr th {\n",
       "        vertical-align: top;\n",
       "    }\n",
       "\n",
       "    .dataframe thead th {\n",
       "        text-align: right;\n",
       "    }\n",
       "</style>\n",
       "<table border=\"1\" class=\"dataframe\">\n",
       "  <thead>\n",
       "    <tr style=\"text-align: right;\">\n",
       "      <th></th>\n",
       "      <th>ADANIENT</th>\n",
       "      <th>ADANIGREEN</th>\n",
       "      <th>ADANIPORTS</th>\n",
       "      <th>ADANIPOWER</th>\n",
       "      <th>ADANITRANS</th>\n",
       "      <th>ASIANPAINT</th>\n",
       "      <th>ATGL</th>\n",
       "      <th>AXISBANK</th>\n",
       "      <th>BAJAJ-AUTO*</th>\n",
       "      <th>BAJAJFINSV</th>\n",
       "      <th>...</th>\n",
       "      <th>SBIN</th>\n",
       "      <th>SIEMENS</th>\n",
       "      <th>SUNPHARMA</th>\n",
       "      <th>TATAMOTORS</th>\n",
       "      <th>TATASTEEL</th>\n",
       "      <th>TCS</th>\n",
       "      <th>TECHM</th>\n",
       "      <th>TITAN</th>\n",
       "      <th>ULTRACEMCO</th>\n",
       "      <th>WIPRO</th>\n",
       "    </tr>\n",
       "  </thead>\n",
       "  <tbody>\n",
       "    <tr>\n",
       "      <th>0</th>\n",
       "      <td>NaN</td>\n",
       "      <td>NaN</td>\n",
       "      <td>NaN</td>\n",
       "      <td>NaN</td>\n",
       "      <td>NaN</td>\n",
       "      <td>NaN</td>\n",
       "      <td>NaN</td>\n",
       "      <td>NaN</td>\n",
       "      <td>NaN</td>\n",
       "      <td>NaN</td>\n",
       "      <td>...</td>\n",
       "      <td>NaN</td>\n",
       "      <td>NaN</td>\n",
       "      <td>NaN</td>\n",
       "      <td>NaN</td>\n",
       "      <td>NaN</td>\n",
       "      <td>NaN</td>\n",
       "      <td>NaN</td>\n",
       "      <td>NaN</td>\n",
       "      <td>NaN</td>\n",
       "      <td>NaN</td>\n",
       "    </tr>\n",
       "    <tr>\n",
       "      <th>1</th>\n",
       "      <td>0.020829</td>\n",
       "      <td>0.047462</td>\n",
       "      <td>0.038108</td>\n",
       "      <td>0.042745</td>\n",
       "      <td>0.039457</td>\n",
       "      <td>0.030649</td>\n",
       "      <td>0.029933</td>\n",
       "      <td>0.019329</td>\n",
       "      <td>0.009675</td>\n",
       "      <td>0.002941</td>\n",
       "      <td>...</td>\n",
       "      <td>0.002107</td>\n",
       "      <td>0.007486</td>\n",
       "      <td>0.018770</td>\n",
       "      <td>0.009478</td>\n",
       "      <td>0.025317</td>\n",
       "      <td>0.018242</td>\n",
       "      <td>0.004394</td>\n",
       "      <td>0.017646</td>\n",
       "      <td>0.026465</td>\n",
       "      <td>0.023720</td>\n",
       "    </tr>\n",
       "    <tr>\n",
       "      <th>2</th>\n",
       "      <td>-0.032060</td>\n",
       "      <td>-0.030200</td>\n",
       "      <td>-0.028710</td>\n",
       "      <td>0.014500</td>\n",
       "      <td>-0.043512</td>\n",
       "      <td>-0.016760</td>\n",
       "      <td>-0.053440</td>\n",
       "      <td>-0.017954</td>\n",
       "      <td>-0.015729</td>\n",
       "      <td>-0.038961</td>\n",
       "      <td>...</td>\n",
       "      <td>-0.034241</td>\n",
       "      <td>-0.015113</td>\n",
       "      <td>-0.015054</td>\n",
       "      <td>-0.044467</td>\n",
       "      <td>-0.047224</td>\n",
       "      <td>-0.051670</td>\n",
       "      <td>-0.067516</td>\n",
       "      <td>-0.023153</td>\n",
       "      <td>-0.013995</td>\n",
       "      <td>-0.063767</td>\n",
       "    </tr>\n",
       "    <tr>\n",
       "      <th>3</th>\n",
       "      <td>0.033597</td>\n",
       "      <td>0.000165</td>\n",
       "      <td>0.033455</td>\n",
       "      <td>0.045384</td>\n",
       "      <td>0.021460</td>\n",
       "      <td>0.020758</td>\n",
       "      <td>0.009960</td>\n",
       "      <td>0.027695</td>\n",
       "      <td>0.019550</td>\n",
       "      <td>0.016464</td>\n",
       "      <td>...</td>\n",
       "      <td>0.029209</td>\n",
       "      <td>0.025149</td>\n",
       "      <td>0.024132</td>\n",
       "      <td>0.038968</td>\n",
       "      <td>0.024604</td>\n",
       "      <td>0.000889</td>\n",
       "      <td>0.009056</td>\n",
       "      <td>0.004360</td>\n",
       "      <td>0.001613</td>\n",
       "      <td>0.000515</td>\n",
       "    </tr>\n",
       "    <tr>\n",
       "      <th>4</th>\n",
       "      <td>0.001730</td>\n",
       "      <td>-0.017945</td>\n",
       "      <td>0.003771</td>\n",
       "      <td>0.048774</td>\n",
       "      <td>-0.036557</td>\n",
       "      <td>0.020568</td>\n",
       "      <td>-0.014307</td>\n",
       "      <td>0.012644</td>\n",
       "      <td>0.004344</td>\n",
       "      <td>0.009640</td>\n",
       "      <td>...</td>\n",
       "      <td>0.011768</td>\n",
       "      <td>0.014560</td>\n",
       "      <td>0.018445</td>\n",
       "      <td>0.017169</td>\n",
       "      <td>-0.112193</td>\n",
       "      <td>0.005359</td>\n",
       "      <td>0.007551</td>\n",
       "      <td>0.017485</td>\n",
       "      <td>-0.006745</td>\n",
       "      <td>0.012204</td>\n",
       "    </tr>\n",
       "  </tbody>\n",
       "</table>\n",
       "<p>5 rows × 50 columns</p>\n",
       "</div>"
      ],
      "text/plain": [
       "   ADANIENT  ADANIGREEN  ADANIPORTS  ADANIPOWER  ADANITRANS  ASIANPAINT  \\\n",
       "0       NaN         NaN         NaN         NaN         NaN         NaN   \n",
       "1  0.020829    0.047462    0.038108    0.042745    0.039457    0.030649   \n",
       "2 -0.032060   -0.030200   -0.028710    0.014500   -0.043512   -0.016760   \n",
       "3  0.033597    0.000165    0.033455    0.045384    0.021460    0.020758   \n",
       "4  0.001730   -0.017945    0.003771    0.048774   -0.036557    0.020568   \n",
       "\n",
       "       ATGL  AXISBANK  BAJAJ-AUTO*  BAJAJFINSV  ...      SBIN   SIEMENS  \\\n",
       "0       NaN       NaN          NaN         NaN  ...       NaN       NaN   \n",
       "1  0.029933  0.019329     0.009675    0.002941  ...  0.002107  0.007486   \n",
       "2 -0.053440 -0.017954    -0.015729   -0.038961  ... -0.034241 -0.015113   \n",
       "3  0.009960  0.027695     0.019550    0.016464  ...  0.029209  0.025149   \n",
       "4 -0.014307  0.012644     0.004344    0.009640  ...  0.011768  0.014560   \n",
       "\n",
       "   SUNPHARMA  TATAMOTORS  TATASTEEL       TCS     TECHM     TITAN  ULTRACEMCO  \\\n",
       "0        NaN         NaN        NaN       NaN       NaN       NaN         NaN   \n",
       "1   0.018770    0.009478   0.025317  0.018242  0.004394  0.017646    0.026465   \n",
       "2  -0.015054   -0.044467  -0.047224 -0.051670 -0.067516 -0.023153   -0.013995   \n",
       "3   0.024132    0.038968   0.024604  0.000889  0.009056  0.004360    0.001613   \n",
       "4   0.018445    0.017169  -0.112193  0.005359  0.007551  0.017485   -0.006745   \n",
       "\n",
       "      WIPRO  \n",
       "0       NaN  \n",
       "1  0.023720  \n",
       "2 -0.063767  \n",
       "3  0.000515  \n",
       "4  0.012204  \n",
       "\n",
       "[5 rows x 50 columns]"
      ]
     },
     "execution_count": 22,
     "metadata": {},
     "output_type": "execute_result"
    }
   ],
   "source": [
    "r = data[(data['Time'] >= '2022-05-01')] \\\n",
    "    .drop(['Time'], axis=1) \\\n",
    "    .pct_change(fill_method='ffill')\n",
    "r.head()"
   ]
  },
  {
   "cell_type": "code",
   "execution_count": 23,
   "id": "98938e7d",
   "metadata": {},
   "outputs": [],
   "source": [
    "mu = r.mean().to_numpy()\n",
    "sigma = r.cov().to_numpy()\n",
    "n=len(stocks)\n"
   ]
  },
  {
   "cell_type": "code",
   "execution_count": 24,
   "id": "1a89ae28",
   "metadata": {},
   "outputs": [],
   "source": [
    "'''from azure.quantum import Workspace\n",
    "workspace = Workspace (\n",
    "    subscription_id = \"e87e6b08-4913-4522-9206-ba18a56ee0fa\",\n",
    "    resource_group = \"AzureQuantum\",\n",
    "    name = \"MTCProjectQuantumSharique\",\n",
    "    location = \"East US\"\n",
    ")\n",
    "'''\n",
    "\n",
    "from azure.quantum import Workspace\n",
    "workspace = Workspace (\n",
    "    subscription_id = \"6e02aef9-2670-4418-92b8-7659cf5605d2\",\n",
    "    resource_group = \"azurequantum\",\n",
    "    name = \"workspace1\",\n",
    "    location = \"japaneast\"\n",
    ")"
   ]
  },
  {
   "cell_type": "markdown",
   "id": "d9386d76",
   "metadata": {},
   "source": [
    "Objective Function"
   ]
  },
  {
   "cell_type": "code",
   "execution_count": 25,
   "id": "8405f389",
   "metadata": {},
   "outputs": [],
   "source": [
    " \n",
    "def Return(mu,n):\n",
    "    \"\"\"Calculates the Terms for the return component of the cost function\n",
    "\n",
    "    Parameters\n",
    "    ----------\n",
    "    mu : np.array\n",
    "        Expected return of each stock \n",
    "    n : integer\n",
    "        Number of stocks\n",
    "        \n",
    "    Returns\n",
    "    -------\n",
    "    terms: list\n",
    "        List of Terms associated with the return component of the cost function\n",
    "    \"\"\"\n",
    "    \n",
    "    terms=[]\n",
    "    \n",
    "    for i in range(0,n):\n",
    "        \n",
    "        terms.append(Term(c=-1*mu[i] , indices=[i]))\n",
    "    print(\"Number of terms in return: \", len(terms))\n",
    "    return terms"
   ]
  },
  {
   "cell_type": "code",
   "execution_count": 26,
   "id": "dec185a0",
   "metadata": {},
   "outputs": [],
   "source": [
    "def risk(sigma,n,risk_aversion):\n",
    "\n",
    "    \"\"\"Calculates the Terms for the risk component of the cost function\n",
    "\n",
    "    Parameters\n",
    "    ----------\n",
    "    sigma : np.array\n",
    "        Covariance matrix of the dataset \n",
    "    n : integer\n",
    "        Number of stocks\n",
    "    risk_aversion: integer\n",
    "        Risk aversion parameter\n",
    "        \n",
    "    Returns\n",
    "    -------\n",
    "    terms: list\n",
    "        List of Terms associated with the risk component of the cost function\n",
    "    \"\"\"\n",
    "    \n",
    "    terms=[]\n",
    "    \n",
    "    for i in range(0,n):\n",
    "        for j in range(0,n):\n",
    "            terms.append(Term(c= sigma[i][j] * (risk_aversion/2) , indices=[i,j]))\n",
    "    print(\"Number of terms in risk: \", len(terms))\n",
    "    return terms"
   ]
  },
  {
   "cell_type": "markdown",
   "id": "7bfe2fa0",
   "metadata": {},
   "source": [
    "Constraints"
   ]
  },
  {
   "cell_type": "code",
   "execution_count": 27,
   "id": "97179e9a",
   "metadata": {},
   "outputs": [],
   "source": [
    "def budget_constraint(penalty_weight,n,b):\n",
    "\n",
    "    '''\n",
    "      Calculates the Terms for the normalized budget constraint\n",
    "\n",
    "        Parameters\n",
    "        ----------\n",
    "        penalty_weight : integer\n",
    "            Lagrange multiplier to penalise the stocks that don't obey the constraint \n",
    "        n : integer\n",
    "            Number of stocks\n",
    "        b : integer\n",
    "            Normalized budget / stock appretite must be less than n\n",
    "\n",
    "        Returns\n",
    "        -------\n",
    "        slc: list\n",
    "            List of SlcTerms associated with the penalty constraint\n",
    "        \n",
    "    '''\n",
    "\n",
    "    terms=[]\n",
    "    for i in range(0,n):\n",
    "        terms.append(Term(c= 1 , indices=[i]))\n",
    "    terms.append(Term(c=-b, indices=[]))\n",
    "    slc = []\n",
    "    slc.append(SlcTerm(\n",
    "            terms,\n",
    "            c=1\n",
    "        ))\n",
    "    return slc"
   ]
  },
  {
   "cell_type": "markdown",
   "id": "1e314cf3",
   "metadata": {},
   "source": [
    "Results"
   ]
  },
  {
   "cell_type": "code",
   "execution_count": 28,
   "id": "f918465e",
   "metadata": {},
   "outputs": [
    {
     "name": "stdout",
     "output_type": "stream",
     "text": [
      "Number of terms in return:  50\n",
      "Number of terms in risk:  2500\n"
     ]
    }
   ],
   "source": [
    "terms=[]\n",
    "t1 = Return(mu,n)\n",
    "t2 = risk(sigma,n,1)\n",
    "terms= t1+ t2 \n",
    "problem = Problem(name=\"Portfolio optimization\", problem_type=ProblemType.pubo, terms=terms)"
   ]
  },
  {
   "cell_type": "code",
   "execution_count": 29,
   "id": "67aa8985",
   "metadata": {},
   "outputs": [
    {
     "name": "stdout",
     "output_type": "stream",
     "text": [
      "...."
     ]
    }
   ],
   "source": [
    "solver = ParallelTempering(workspace)\n",
    "solution = solver.optimize(problem)"
   ]
  },
  {
   "cell_type": "code",
   "execution_count": 30,
   "id": "99f47b00",
   "metadata": {},
   "outputs": [
    {
     "name": "stdout",
     "output_type": "stream",
     "text": [
      "{'0': 0, '1': 0, '2': 0, '3': 0, '4': 1, '5': 0, '6': 0, '7': 0, '8': 0, '9': 0, '10': 0, '11': 0, '12': 1, '13': 0, '14': 0, '15': 0, '16': 0, '17': 0, '18': 0, '19': 1, '20': 0, '21': 0, '22': 0, '23': 0, '24': 0, '25': 0, '26': 1, '27': 0, '28': 0, '29': 0, '30': 0, '31': 1, '32': 1, '33': 1, '34': 0, '35': 0, '36': 0, '37': 0, '38': 0, '39': 1, '40': 0, '41': 1, '42': 0, '43': 0, '44': 0, '45': 0, '46': 0, '47': 0, '48': 0, '49': 0}\n",
      "\n",
      "Selected stocks are -\n",
      " ['ADANITRANS', 'BRITANNIA', 'HDFCBANK', 'ITC', 'M&M', 'MARUTI', 'NESTLEIND', 'SBILIFE', 'SIEMENS']\n",
      "\n",
      "Price of selected stocks are -\n",
      " [2288.050953422945, 3353.182279766438, 1307.06281447588, 262.41769359302384, 903.5962191292541, 7478.342472415576, 16291.96707229778, 1058.2533124128313, 2316.5616353863775]\n"
     ]
    }
   ],
   "source": [
    "print(solution['configuration'])\n",
    "result = solution['configuration']\n",
    "#print(type(result))\n",
    "\n",
    "selected_stocks=[]\n",
    "prices_selected=[]\n",
    "index_prices_selected= []\n",
    "\n",
    "daily_prices = data.drop(['Time'], axis=1).to_numpy()\n",
    "#print(daily_prices)\n",
    "\n",
    "pmu = []\n",
    "for i in range(0,34):\n",
    "    for j in range(0,n):\n",
    "        pmu.append(daily_prices[i][j].mean()) \n",
    "#print(pmu)\n",
    "\n",
    "for i in result.keys():\n",
    "    if result[i]:\n",
    "        selected_stocks.append(stocks[int(i)])\n",
    "        prices_selected.append(pmu[int(i)])\n",
    "        index_prices_selected.append(int(i))\n",
    "        \n",
    "print(\"\\nSelected stocks are -\\n\", selected_stocks)\n",
    "\n",
    "print(\"\\nPrice of selected stocks are -\\n\", prices_selected)"
   ]
  },
  {
   "cell_type": "code",
   "execution_count": 31,
   "id": "3ec91e1d",
   "metadata": {},
   "outputs": [],
   "source": [
    "def find_risk():\n",
    "\n",
    "    \"\"\"Calculates the risk for the optimised portfolio\n",
    "    \n",
    "    Parameters\n",
    "    ----------\n",
    "    None\n",
    "\n",
    "    Returns\n",
    "    -------\n",
    "    risk: float\n",
    "        risk value of the optimised portfolio\n",
    "    \"\"\"\n",
    "    \n",
    "    risk=0\n",
    "    for i in range(0,n):\n",
    "        for j in range(0,n):\n",
    "            t = 0.5 * result[str(i)]* result[str(j)]*sigma[i][j]\n",
    "            risk+=t\n",
    "    return risk"
   ]
  },
  {
   "cell_type": "code",
   "execution_count": 32,
   "id": "2095b40a",
   "metadata": {},
   "outputs": [],
   "source": [
    "\n",
    "def distributed_budget(B, arr, cp):\n",
    "\n",
    "    '''\n",
    "    Distributes the budget equally among all stocks to calculate the number of shares of each stock\n",
    "\n",
    "    Parameters-\n",
    "        B - Budget to be invested\n",
    "        arr- List of strings representing selected stocks \n",
    "        cp - A numpy matrix representing the current prices\n",
    "\n",
    "    Returns-\n",
    "        shares - list containing number of shares of each stock to select\n",
    "        \n",
    "    '''\n",
    "\n",
    "    shares=[]\n",
    "    distribution = B/len(arr)  \n",
    "\n",
    "    for i in range(len(arr)):\n",
    "        numberOfShares = math.floor(distribution/cp[index_prices_selected[i]])   \n",
    "        shares.append(numberOfShares)\n",
    "        print(arr[i], \" : \" ,shares[i],\" shares\")\n",
    "    return shares"
   ]
  },
  {
   "cell_type": "code",
   "execution_count": 34,
   "id": "f45d205f",
   "metadata": {},
   "outputs": [
    {
     "name": "stdout",
     "output_type": "stream",
     "text": [
      "ADANITRANS  :  8  shares\n",
      "BRITANNIA  :  6  shares\n",
      "HDFCBANK  :  16  shares\n",
      "ITC  :  79  shares\n",
      "M&M  :  20  shares\n",
      "MARUTI  :  2  shares\n",
      "NESTLEIND  :  1  shares\n",
      "SBILIFE  :  20  shares\n",
      "SIEMENS  :  9  shares\n"
     ]
    }
   ],
   "source": [
    "no_of_shares = distributed_budget(200000, selected_stocks, cp)\n",
    "#type(no_of_shares[0])"
   ]
  },
  {
   "cell_type": "code",
   "execution_count": 35,
   "id": "89d47e47",
   "metadata": {},
   "outputs": [],
   "source": [
    "\n",
    "def find_return():\n",
    "    '''\n",
    "    Calculates the expected return for the optimised portfolio\n",
    "    \n",
    "    Parameters\n",
    "    ----------\n",
    "    None\n",
    "\n",
    "    Returns\n",
    "    -------\n",
    "    Return: float\n",
    "        Expected return value of the optimised portfolio\n",
    "    \n",
    "    '''\n",
    "    Return=0\n",
    "    number_stocks = len(selected_stocks)\n",
    "    for i in range(0,number_stocks):\n",
    "        t = prices_selected[i]*number_stocks\n",
    "        Return+=t\n",
    "    return Return"
   ]
  },
  {
   "cell_type": "code",
   "execution_count": 37,
   "id": "020ddd1e",
   "metadata": {},
   "outputs": [
    {
     "name": "stdout",
     "output_type": "stream",
     "text": [
      "OPTIMIZSED PORTFOLIO : \n",
      "\n",
      "ADANITRANS  :  8  shares\n",
      "BRITANNIA  :  6  shares\n",
      "HDFCBANK  :  16  shares\n",
      "ITC  :  79  shares\n",
      "M&M  :  20  shares\n",
      "MARUTI  :  2  shares\n",
      "NESTLEIND  :  1  shares\n",
      "SBILIFE  :  20  shares\n",
      "SIEMENS  :  9  shares\n",
      "\n",
      "CONSTRAINTS:\n",
      "\n",
      "Budget :  ₹ 200000 \n",
      "\n",
      "Risk Aversion index of : 1\n",
      "\n",
      "Returns :  ₹ 317334.91\n",
      "\n",
      "Risk :  0.4000232128394136 %\n"
     ]
    }
   ],
   "source": [
    "# Printing results\n",
    "\n",
    "print(\"OPTIMIZSED PORTFOLIO : \\n\")\n",
    "portfolio= distributed_budget(200000, selected_stocks, cp)\n",
    "print(\"\\nCONSTRAINTS:\")\n",
    "print(\"\\nBudget : \",  u\"\\u20B9\", 200000,\"\\n\")\n",
    "print(\"Risk Aversion index of :\" , 1)\n",
    "print(\"\\nReturns : \",  u\"\\u20B9\", round(find_return(),3))\n",
    "print(\"\\nRisk : \", find_risk()*100,\"%\")"
   ]
  },
  {
   "cell_type": "code",
   "execution_count": 38,
   "id": "31f0fa39",
   "metadata": {},
   "outputs": [
    {
     "name": "stdout",
     "output_type": "stream",
     "text": [
      "Number of terms in return:  50\n",
      "Number of terms in risk:  2500\n"
     ]
    }
   ],
   "source": [
    "terms=[]\n",
    "t1 = Return(mu,n)\n",
    "t2 = risk(sigma,n,1)\n",
    "t3 = budget_constraint(2*n,n,8)\n",
    "terms= t1+ t2 + t3\n",
    "problem = Problem(name=\"Portfolio optimization\", problem_type=ProblemType.pubo, terms=terms)"
   ]
  },
  {
   "cell_type": "code",
   "execution_count": 39,
   "id": "024f3f83",
   "metadata": {},
   "outputs": [
    {
     "name": "stdout",
     "output_type": "stream",
     "text": [
      "......"
     ]
    }
   ],
   "source": [
    "# Instantiate a solver to solve the problem. \n",
    "solver = ParallelTempering(workspace)\n",
    "\n",
    "# Optimize the problem\n",
    "solution = solver.optimize(problem)"
   ]
  },
  {
   "cell_type": "code",
   "execution_count": 40,
   "id": "9a8f5a52",
   "metadata": {},
   "outputs": [
    {
     "name": "stdout",
     "output_type": "stream",
     "text": [
      "{'0': 1, '1': 0, '2': 0, '3': 0, '4': 1, '5': 0, '6': 0, '7': 0, '8': 0, '9': 0, '10': 0, '11': 0, '12': 0, '13': 0, '14': 0, '15': 0, '16': 0, '17': 0, '18': 0, '19': 0, '20': 1, '21': 0, '22': 0, '23': 0, '24': 0, '25': 0, '26': 1, '27': 0, '28': 0, '29': 0, '30': 0, '31': 1, '32': 1, '33': 1, '34': 0, '35': 0, '36': 0, '37': 0, '38': 0, '39': 1, '40': 0, '41': 0, '42': 0, '43': 0, '44': 0, '45': 0, '46': 0, '47': 0, '48': 0, '49': 0}\n",
      "\n",
      "Selected stocks are -\n",
      " ['ADANIENT', 'ADANITRANS', 'HDFCLIFE', 'ITC', 'M&M', 'MARUTI', 'NESTLEIND', 'SBILIFE']\n",
      "\n",
      "Price of selected stocks are -\n",
      " [2148.289147665696, 2288.050953422945, 549.7553284184845, 262.41769359302384, 903.5962191292541, 7478.342472415576, 16291.96707229778, 1058.2533124128313]\n"
     ]
    }
   ],
   "source": [
    "print(solution['configuration'])\n",
    "result = solution['configuration']\n",
    "#print(type(result))\n",
    "\n",
    "selected_stocks=[]\n",
    "prices_selected=[]\n",
    "index_prices_selected= []\n",
    "\n",
    "daily_prices = data.drop(['Time'], axis=1).to_numpy()\n",
    "#print(daily_prices)\n",
    "\n",
    "pmu = []\n",
    "for i in range(0,34):\n",
    "    for j in range(0,n):\n",
    "        pmu.append(daily_prices[i][j].mean()) \n",
    "#print(pmu)\n",
    "\n",
    "for i in result.keys():\n",
    "    if result[i]:\n",
    "        selected_stocks.append(stocks[int(i)])\n",
    "        prices_selected.append(pmu[int(i)])\n",
    "        index_prices_selected.append(int(i))\n",
    "        \n",
    "print(\"\\nSelected stocks are -\\n\", selected_stocks)\n",
    "\n",
    "print(\"\\nPrice of selected stocks are -\\n\", prices_selected)"
   ]
  },
  {
   "cell_type": "code",
   "execution_count": 44,
   "id": "95f754e0",
   "metadata": {},
   "outputs": [
    {
     "name": "stdout",
     "output_type": "stream",
     "text": [
      "\n",
      " DIVERSIFIED PORTFOLIO: \n",
      "\n",
      "ADANIENT  :  11  shares\n",
      "ADANITRANS  :  10  shares\n",
      "HDFCLIFE  :  44  shares\n",
      "ITC  :  89  shares\n",
      "M&M  :  22  shares\n",
      "MARUTI  :  2  shares\n",
      "NESTLEIND  :  1  shares\n",
      "SBILIFE  :  22  shares\n",
      "\n",
      "Constraints:\n",
      "\n",
      "Budget :  ₹ 200000 \n",
      "\n",
      "Stock Appetite:  13  stocks\n",
      "\n",
      "Risk Aversion index of : 1 \n",
      "\n",
      "Returns :  ₹ 247845.378\n",
      "\n",
      "Risk :  0.4213 %\n"
     ]
    }
   ],
   "source": [
    "# Printing results\n",
    "\n",
    "print(\"\\n DIVERSIFIED PORTFOLIO: \\n\")\n",
    "ab= distributed_budget(200000, selected_stocks, cp)\n",
    "print(\"\\nConstraints:\")\n",
    "print(\"\\nBudget : \",  u\"\\u20B9\", 200000,\"\\n\")\n",
    "print(\"Stock Appetite: \", 13, \" stocks\\n\")\n",
    "print(\"Risk Aversion index of :\" , 1,\"\\n\")\n",
    "print(\"Returns : \",  u\"\\u20B9\", round(find_return(),3))\n",
    "print(\"\\nRisk : \", round(find_risk()*100,4) ,\"%\")"
   ]
  }
 ],
 "metadata": {
  "kernelspec": {
   "display_name": "Python 3.9.12 ('qsharp-env')",
   "language": "python",
   "name": "python3"
  },
  "language_info": {
   "codemirror_mode": {
    "name": "ipython",
    "version": 3
   },
   "file_extension": ".py",
   "mimetype": "text/x-python",
   "name": "python",
   "nbconvert_exporter": "python",
   "pygments_lexer": "ipython3",
   "version": "3.8.10"
  },
  "vscode": {
   "interpreter": {
    "hash": "a0c90c5f8d186b65746168799a0a49669e5748d92ec2b103a15f0f0e36a3d9f3"
   }
  }
 },
 "nbformat": 4,
 "nbformat_minor": 5
}
