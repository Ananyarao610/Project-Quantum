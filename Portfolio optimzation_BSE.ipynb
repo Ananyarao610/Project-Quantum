{
 "cells": [
  {
   "cell_type": "code",
   "execution_count": 190,
   "id": "7fa07d0b",
   "metadata": {},
   "outputs": [],
   "source": [
    "import os                              \n",
    "import numpy as np\n",
    "from numpy import number                    \n",
    "import pandas as pd                     \n",
    "import matplotlib.pyplot as plt  \n",
    "import math\n",
    "from typing import List\n",
    "from azure.quantum.optimization import Problem, ProblemType, Term\n",
    "from azure.quantum.optimization import ParallelTempering\n",
    "from azure.quantum.optimization import Term, SlcTerm"
   ]
  },
  {
   "cell_type": "markdown",
   "id": "041b44fb",
   "metadata": {},
   "source": [
    "Data Preprocessing"
   ]
  },
  {
   "cell_type": "code",
   "execution_count": 191,
   "id": "58e664e9",
   "metadata": {},
   "outputs": [
    {
     "name": "stdout",
     "output_type": "stream",
     "text": [
      "['ADANIENT', 'ADANIGREEN', 'ADANIPORTS', 'ADANIPOWER', 'ADANITRANS', 'ASIANPAINT', 'ATGL', 'AXISBANK', 'BAJAJ-AUTO*', 'BAJAJFINSV', 'BAJFINANCE', 'BHARTIARTL', 'BRITANNIA', 'COALINDIA', 'DABUR', 'DIVISLAB', 'DMART', 'HCLTECH', 'HDFC', 'HDFCBANK', 'HDFCLIFE', 'HINDUNILVR', 'HINDZINC', 'ICICIBANK', 'INFY', 'IOC', 'ITC', 'JSWSTEEL', 'KOTAKBANK', 'LT', 'M&M', 'MARUTI', 'NESTLEIND', 'NTPC', 'ONGC', 'PIDILITIND', 'POWERGRID', 'RELIANCE', 'SBILIFE', 'SBIN', 'SIEMENS', 'SUNPHARMA', 'TATAMOTORS', 'TATASTEEL', 'TCS', 'TECHM', 'TITAN', 'ULTRACEMCO', 'WIPRO']\n"
     ]
    }
   ],
   "source": [
    "stocks = [stock.split('.')[0] for stock in sorted(os.listdir(\"Datasets/Bombay Stock Exchange Top 50 (last 20 years data)\"))]\n",
    "stocks = stocks[1:]\n",
    "\n",
    "print(stocks)"
   ]
  },
  {
   "cell_type": "code",
   "execution_count": 192,
   "id": "df17cc58",
   "metadata": {},
   "outputs": [],
   "source": [
    "dates = pd.date_range('2020-06-27', '2022-06-27') \n",
    "data = pd.DataFrame({'Time': dates})\n"
   ]
  },
  {
   "cell_type": "code",
   "execution_count": 193,
   "id": "7cb2e095",
   "metadata": {},
   "outputs": [
    {
     "name": "stdout",
     "output_type": "stream",
     "text": [
      "          Time     ADANIENT   ADANIGREEN  ADANIPORTS  ADANIPOWER   ADANITRANS  \\\n",
      "0   2020-06-29   159.687942   377.549942  341.654664   36.403273   272.677199   \n",
      "1   2020-06-30   159.160562   358.699993  346.728165   36.221707   262.479721   \n",
      "2   2020-07-01   157.467809   340.799950  344.546232   35.876913   264.566015   \n",
      "3   2020-07-02   158.572490   340.665187  347.204457   35.958567   267.357540   \n",
      "4   2020-07-03   161.300691   375.649950  361.634482   35.888083   263.796821   \n",
      "..         ...          ...          ...         ...         ...          ...   \n",
      "494 2022-06-21  2135.639904  1781.609758  682.067737  247.598922  2164.276059   \n",
      "495 2022-06-22  2099.523327  1760.070866  672.045492  249.228760  2140.302787   \n",
      "496 2022-06-23  2108.266003  1781.589066  675.405151  253.533681  2108.878187   \n",
      "497 2022-06-24  2133.605969  1851.278832  683.102882  261.148474  2129.006294   \n",
      "498 2022-06-27  2188.648927  1906.666153  692.876943  273.437845  2149.214171   \n",
      "\n",
      "      ASIANPAINT         ATGL    AXISBANK  BAJAJ-AUTO*  ...        SBIN  \\\n",
      "0    1689.630822   159.414290  406.952671  2840.783909  ...  180.049832   \n",
      "1    1699.711609   156.994665  409.768680  2855.173909  ...  180.205602   \n",
      "2    1688.382941   156.558066  424.271885  2848.169372  ...  182.739192   \n",
      "3    1684.027811   164.046658  428.301118  2868.540268  ...  186.139590   \n",
      "4    1702.759357   162.406386  427.840246  2931.065261  ...  184.868624   \n",
      "..           ...          ...         ...          ...  ...         ...   \n",
      "494  2690.722097  2244.610250  636.154716  3644.814412  ...  447.165111   \n",
      "495  2661.063299  2306.811729  626.851099  3643.810524  ...  448.044747   \n",
      "496  2733.520259  2253.505487  629.225950  3729.034913  ...  451.136159   \n",
      "497  2750.178103  2293.549287  635.237491  3797.973103  ...  456.107060   \n",
      "498  2788.868864  2295.534423  638.860634  3868.860901  ...  461.347105   \n",
      "\n",
      "         SIEMENS   SUNPHARMA  TATAMOTORS   TATASTEEL          TCS  \\\n",
      "0    1103.089861  482.009881   99.358998  317.065345  2103.472575   \n",
      "1    1111.199105  473.792537   99.418738  331.968629  2096.818096   \n",
      "2    1094.262121  469.566696   99.895856  323.368335  2099.796068   \n",
      "3    1099.367832  472.011337  101.573643  330.275449  2141.823397   \n",
      "4    1138.866760  476.362143  104.571827  332.088003  2187.918199   \n",
      "..           ...         ...         ...         ...          ...   \n",
      "494  2336.579500  815.804801  394.968542  876.985411  3198.838989   \n",
      "495  2309.549925  809.504282  393.812565  849.173837  3220.741509   \n",
      "496  2314.771357  819.952141  403.780272  840.925043  3280.216936   \n",
      "497  2354.043191  826.409847  409.601604  853.361199  3304.815596   \n",
      "498  2374.566376  842.273064  415.937609  870.213726  3332.540174   \n",
      "\n",
      "           TECHM        TITAN   ULTRACEMCO       WIPRO  \n",
      "0     545.223644   948.506510  3798.457271  221.773097  \n",
      "1     544.982335   958.097464  3879.393522  220.058215  \n",
      "2     542.107313   953.663250  3897.944746  219.599518  \n",
      "3     554.145462   974.635676  3914.502936  224.230598  \n",
      "4     566.553768   997.074874  3914.754683  225.718915  \n",
      "..           ...          ...          ...         ...  \n",
      "494   993.484517  2059.876202  5372.632974  423.112400  \n",
      "495   981.140164  2029.155216  5369.378332  415.723428  \n",
      "496   989.031923  2020.470154  5460.472331  416.836101  \n",
      "497   983.407803  2047.714743  5475.951046  419.328550  \n",
      "498  1013.447751  2046.406950  5539.037310  426.673719  \n",
      "\n",
      "[499 rows x 50 columns]\n"
     ]
    }
   ],
   "source": [
    "for stock in stocks:\n",
    "    prices = pd.read_csv(\"Datasets/Bombay Stock Exchange Top 50 (last 20 years data)/\"+stock+\".csv\", usecols=['Date', 'WAP'])\n",
    "    #print(prices)\n",
    "    prices['Date'] = pd.to_datetime(prices['Date'], dayfirst = True)  \n",
    "    #print(prices)\n",
    "    prices.rename(                                                            \n",
    "        columns={\"Date\": \"Time\", \"WAP\": stock},\n",
    "        inplace=True\n",
    "    )\n",
    "    data = pd.merge(data,prices)\n",
    "print(data)"
   ]
  },
  {
   "cell_type": "code",
   "execution_count": 194,
   "id": "5567c0fa",
   "metadata": {},
   "outputs": [
    {
     "data": {
      "text/plain": [
       "array([ 2188.64892669,  1906.66615311,   692.87694294,   273.437845  ,\n",
       "        2149.21417057,  2788.86886379,  2295.53442281,   638.86063448,\n",
       "        3868.86090058, 11673.4025819 ,  5668.07834529,   679.48441727,\n",
       "        3466.99020609,   180.65817001,   514.78273758,  3681.66898312,\n",
       "        3428.37337625,   997.25573718,  2202.72498838,  1362.98508175,\n",
       "         563.54203289,  2325.06299449,   248.93730804,   720.42132471,\n",
       "        1476.05466426,   109.79882652,   268.7899822 ,   581.41090407,\n",
       "        1694.15811611,  1534.64559983,  1082.33540129,  8485.91328009,\n",
       "       17331.08250737,   138.12682584,   140.30607119,  2152.83210768,\n",
       "         211.10060772,  2513.46585183,  1087.09199342,   461.34710547,\n",
       "        2374.56637564,   842.27306438,   415.93760932,   870.21372637,\n",
       "        3332.54017435,  1013.44775106,  2046.40694998,  5539.03730973,\n",
       "         426.67371869])"
      ]
     },
     "execution_count": 194,
     "metadata": {},
     "output_type": "execute_result"
    }
   ],
   "source": [
    "cp = data .drop(['Time'], axis=1).tail(1).to_numpy()\n",
    "cp = cp[0]\n",
    "cp"
   ]
  },
  {
   "cell_type": "code",
   "execution_count": 195,
   "id": "b885b00c",
   "metadata": {},
   "outputs": [
    {
     "data": {
      "text/html": [
       "<div>\n",
       "<style scoped>\n",
       "    .dataframe tbody tr th:only-of-type {\n",
       "        vertical-align: middle;\n",
       "    }\n",
       "\n",
       "    .dataframe tbody tr th {\n",
       "        vertical-align: top;\n",
       "    }\n",
       "\n",
       "    .dataframe thead th {\n",
       "        text-align: right;\n",
       "    }\n",
       "</style>\n",
       "<table border=\"1\" class=\"dataframe\">\n",
       "  <thead>\n",
       "    <tr style=\"text-align: right;\">\n",
       "      <th></th>\n",
       "      <th>ADANIENT</th>\n",
       "      <th>ADANIGREEN</th>\n",
       "      <th>ADANIPORTS</th>\n",
       "      <th>ADANIPOWER</th>\n",
       "      <th>ADANITRANS</th>\n",
       "      <th>ASIANPAINT</th>\n",
       "      <th>ATGL</th>\n",
       "      <th>AXISBANK</th>\n",
       "      <th>BAJAJ-AUTO*</th>\n",
       "      <th>BAJAJFINSV</th>\n",
       "      <th>...</th>\n",
       "      <th>SBIN</th>\n",
       "      <th>SIEMENS</th>\n",
       "      <th>SUNPHARMA</th>\n",
       "      <th>TATAMOTORS</th>\n",
       "      <th>TATASTEEL</th>\n",
       "      <th>TCS</th>\n",
       "      <th>TECHM</th>\n",
       "      <th>TITAN</th>\n",
       "      <th>ULTRACEMCO</th>\n",
       "      <th>WIPRO</th>\n",
       "    </tr>\n",
       "  </thead>\n",
       "  <tbody>\n",
       "    <tr>\n",
       "      <th>0</th>\n",
       "      <td>NaN</td>\n",
       "      <td>NaN</td>\n",
       "      <td>NaN</td>\n",
       "      <td>NaN</td>\n",
       "      <td>NaN</td>\n",
       "      <td>NaN</td>\n",
       "      <td>NaN</td>\n",
       "      <td>NaN</td>\n",
       "      <td>NaN</td>\n",
       "      <td>NaN</td>\n",
       "      <td>...</td>\n",
       "      <td>NaN</td>\n",
       "      <td>NaN</td>\n",
       "      <td>NaN</td>\n",
       "      <td>NaN</td>\n",
       "      <td>NaN</td>\n",
       "      <td>NaN</td>\n",
       "      <td>NaN</td>\n",
       "      <td>NaN</td>\n",
       "      <td>NaN</td>\n",
       "      <td>NaN</td>\n",
       "    </tr>\n",
       "    <tr>\n",
       "      <th>1</th>\n",
       "      <td>-0.003303</td>\n",
       "      <td>-0.049927</td>\n",
       "      <td>0.014850</td>\n",
       "      <td>-0.004988</td>\n",
       "      <td>-0.037398</td>\n",
       "      <td>0.005966</td>\n",
       "      <td>-0.015178</td>\n",
       "      <td>0.006920</td>\n",
       "      <td>0.005066</td>\n",
       "      <td>0.011924</td>\n",
       "      <td>...</td>\n",
       "      <td>0.000865</td>\n",
       "      <td>0.007351</td>\n",
       "      <td>-0.017048</td>\n",
       "      <td>0.000601</td>\n",
       "      <td>0.047004</td>\n",
       "      <td>-0.003164</td>\n",
       "      <td>-0.000443</td>\n",
       "      <td>0.010112</td>\n",
       "      <td>0.021308</td>\n",
       "      <td>-0.007733</td>\n",
       "    </tr>\n",
       "    <tr>\n",
       "      <th>2</th>\n",
       "      <td>-0.010636</td>\n",
       "      <td>-0.049903</td>\n",
       "      <td>-0.006293</td>\n",
       "      <td>-0.009519</td>\n",
       "      <td>0.007948</td>\n",
       "      <td>-0.006665</td>\n",
       "      <td>-0.002781</td>\n",
       "      <td>0.035394</td>\n",
       "      <td>-0.002453</td>\n",
       "      <td>0.016905</td>\n",
       "      <td>...</td>\n",
       "      <td>0.014059</td>\n",
       "      <td>-0.015242</td>\n",
       "      <td>-0.008919</td>\n",
       "      <td>0.004799</td>\n",
       "      <td>-0.025907</td>\n",
       "      <td>0.001420</td>\n",
       "      <td>-0.005275</td>\n",
       "      <td>-0.004628</td>\n",
       "      <td>0.004782</td>\n",
       "      <td>-0.002084</td>\n",
       "    </tr>\n",
       "    <tr>\n",
       "      <th>3</th>\n",
       "      <td>0.007015</td>\n",
       "      <td>-0.000395</td>\n",
       "      <td>0.007715</td>\n",
       "      <td>0.002276</td>\n",
       "      <td>0.010551</td>\n",
       "      <td>-0.002579</td>\n",
       "      <td>0.047833</td>\n",
       "      <td>0.009497</td>\n",
       "      <td>0.007152</td>\n",
       "      <td>0.033348</td>\n",
       "      <td>...</td>\n",
       "      <td>0.018608</td>\n",
       "      <td>0.004666</td>\n",
       "      <td>0.005206</td>\n",
       "      <td>0.016795</td>\n",
       "      <td>0.021360</td>\n",
       "      <td>0.020015</td>\n",
       "      <td>0.022206</td>\n",
       "      <td>0.021991</td>\n",
       "      <td>0.004248</td>\n",
       "      <td>0.021089</td>\n",
       "    </tr>\n",
       "    <tr>\n",
       "      <th>4</th>\n",
       "      <td>0.017205</td>\n",
       "      <td>0.102695</td>\n",
       "      <td>0.041561</td>\n",
       "      <td>-0.001960</td>\n",
       "      <td>-0.013318</td>\n",
       "      <td>0.011123</td>\n",
       "      <td>-0.009999</td>\n",
       "      <td>-0.001076</td>\n",
       "      <td>0.021797</td>\n",
       "      <td>-0.001638</td>\n",
       "      <td>...</td>\n",
       "      <td>-0.006828</td>\n",
       "      <td>0.035929</td>\n",
       "      <td>0.009218</td>\n",
       "      <td>0.029517</td>\n",
       "      <td>0.005488</td>\n",
       "      <td>0.021521</td>\n",
       "      <td>0.022392</td>\n",
       "      <td>0.023023</td>\n",
       "      <td>0.000064</td>\n",
       "      <td>0.006637</td>\n",
       "    </tr>\n",
       "  </tbody>\n",
       "</table>\n",
       "<p>5 rows × 49 columns</p>\n",
       "</div>"
      ],
      "text/plain": [
       "   ADANIENT  ADANIGREEN  ADANIPORTS  ADANIPOWER  ADANITRANS  ASIANPAINT  \\\n",
       "0       NaN         NaN         NaN         NaN         NaN         NaN   \n",
       "1 -0.003303   -0.049927    0.014850   -0.004988   -0.037398    0.005966   \n",
       "2 -0.010636   -0.049903   -0.006293   -0.009519    0.007948   -0.006665   \n",
       "3  0.007015   -0.000395    0.007715    0.002276    0.010551   -0.002579   \n",
       "4  0.017205    0.102695    0.041561   -0.001960   -0.013318    0.011123   \n",
       "\n",
       "       ATGL  AXISBANK  BAJAJ-AUTO*  BAJAJFINSV  ...      SBIN   SIEMENS  \\\n",
       "0       NaN       NaN          NaN         NaN  ...       NaN       NaN   \n",
       "1 -0.015178  0.006920     0.005066    0.011924  ...  0.000865  0.007351   \n",
       "2 -0.002781  0.035394    -0.002453    0.016905  ...  0.014059 -0.015242   \n",
       "3  0.047833  0.009497     0.007152    0.033348  ...  0.018608  0.004666   \n",
       "4 -0.009999 -0.001076     0.021797   -0.001638  ... -0.006828  0.035929   \n",
       "\n",
       "   SUNPHARMA  TATAMOTORS  TATASTEEL       TCS     TECHM     TITAN  ULTRACEMCO  \\\n",
       "0        NaN         NaN        NaN       NaN       NaN       NaN         NaN   \n",
       "1  -0.017048    0.000601   0.047004 -0.003164 -0.000443  0.010112    0.021308   \n",
       "2  -0.008919    0.004799  -0.025907  0.001420 -0.005275 -0.004628    0.004782   \n",
       "3   0.005206    0.016795   0.021360  0.020015  0.022206  0.021991    0.004248   \n",
       "4   0.009218    0.029517   0.005488  0.021521  0.022392  0.023023    0.000064   \n",
       "\n",
       "      WIPRO  \n",
       "0       NaN  \n",
       "1 -0.007733  \n",
       "2 -0.002084  \n",
       "3  0.021089  \n",
       "4  0.006637  \n",
       "\n",
       "[5 rows x 49 columns]"
      ]
     },
     "execution_count": 195,
     "metadata": {},
     "output_type": "execute_result"
    }
   ],
   "source": [
    "r = data[(data['Time'] >= '2020-06-27')] \\\n",
    "    .drop(['Time'], axis=1) \\\n",
    "    .pct_change(fill_method='ffill')\n",
    "r.head()"
   ]
  },
  {
   "cell_type": "code",
   "execution_count": 196,
   "id": "98938e7d",
   "metadata": {},
   "outputs": [],
   "source": [
    "mu = r.mean().to_numpy()\n",
    "sigma = r.cov().to_numpy()\n",
    "n=len(stocks)\n"
   ]
  },
  {
   "cell_type": "code",
   "execution_count": 197,
   "id": "1a89ae28",
   "metadata": {},
   "outputs": [
    {
     "data": {
      "text/plain": [
       "'\\nfrom azure.quantum import Workspace\\nworkspace = Workspace (\\n    subscription_id = \"6e02aef9-2670-4418-92b8-7659cf5605d2\",\\n    resource_group = \"azurequantum\",\\n    name = \"workspace1\",\\n    location = \"japaneast\"\\n)\\n'"
      ]
     },
     "execution_count": 197,
     "metadata": {},
     "output_type": "execute_result"
    }
   ],
   "source": [
    "from azure.quantum import Workspace\n",
    "workspace = Workspace (\n",
    "    subscription_id = \"e87e6b08-4913-4522-9206-ba18a56ee0fa\",\n",
    "    resource_group = \"AzureQuantum\",\n",
    "    name = \"MTCProjectQuantumSharique\",\n",
    "    location = \"East US\"\n",
    ")\n",
    "\n",
    "\"\"\"\n",
    "from azure.quantum import Workspace\n",
    "workspace = Workspace (\n",
    "    subscription_id = \"6e02aef9-2670-4418-92b8-7659cf5605d2\",\n",
    "    resource_group = \"azurequantum\",\n",
    "    name = \"workspace1\",\n",
    "    location = \"japaneast\"\n",
    ")\n",
    "\"\"\""
   ]
  },
  {
   "cell_type": "markdown",
   "id": "d9386d76",
   "metadata": {},
   "source": [
    "Objective Function"
   ]
  },
  {
   "cell_type": "code",
   "execution_count": 198,
   "id": "8405f389",
   "metadata": {},
   "outputs": [],
   "source": [
    " \n",
    "def Return(mu,n):\n",
    "    \"\"\"Calculates the Terms for the return component of the cost function\n",
    "\n",
    "    Parameters\n",
    "    ----------\n",
    "    mu : np.array\n",
    "        Expected return of each stock \n",
    "    n : integer\n",
    "        Number of stocks\n",
    "        \n",
    "    Returns\n",
    "    -------\n",
    "    terms: list\n",
    "        List of Terms associated with the return component of the cost function\n",
    "    \"\"\"\n",
    "    \n",
    "    terms=[]\n",
    "    \n",
    "    for i in range(0,n):\n",
    "        \n",
    "        terms.append(Term(c=-1*mu[i] , indices=[i]))\n",
    "    print(\"Number of terms in return: \", len(terms))\n",
    "    return terms"
   ]
  },
  {
   "cell_type": "code",
   "execution_count": 199,
   "id": "dec185a0",
   "metadata": {},
   "outputs": [],
   "source": [
    "def risk(sigma,n,risk_aversion):\n",
    "\n",
    "    \"\"\"Calculates the Terms for the risk component of the cost function\n",
    "\n",
    "    Parameters\n",
    "    ----------\n",
    "    sigma : np.array\n",
    "        Covariance matrix of the dataset \n",
    "    n : integer\n",
    "        Number of stocks\n",
    "    risk_aversion: integer\n",
    "        Risk aversion parameter\n",
    "        \n",
    "    Returns\n",
    "    -------\n",
    "    terms: list\n",
    "        List of Terms associated with the risk component of the cost function\n",
    "    \"\"\"\n",
    "    \n",
    "    terms=[]\n",
    "    \n",
    "    for i in range(0,n):\n",
    "        for j in range(0,n):\n",
    "            terms.append(Term(c= sigma[i][j] * (risk_aversion/2) , indices=[i,j]))\n",
    "    print(\"Number of terms in risk: \", len(terms))\n",
    "    return terms"
   ]
  },
  {
   "cell_type": "markdown",
   "id": "7bfe2fa0",
   "metadata": {},
   "source": [
    "Constraints"
   ]
  },
  {
   "cell_type": "code",
   "execution_count": 200,
   "id": "97179e9a",
   "metadata": {},
   "outputs": [],
   "source": [
    "def budget_constraint(penalty_weight,n,b):\n",
    "\n",
    "    '''\n",
    "      Calculates the Terms for the normalized budget constraint\n",
    "\n",
    "        Parameters\n",
    "        ----------\n",
    "        penalty_weight : integer\n",
    "            Lagrange multiplier to penalise the stocks that don't obey the constraint \n",
    "        n : integer\n",
    "            Number of stocks\n",
    "        b : integer\n",
    "            Normalized budget / stock appretite must be less than n\n",
    "\n",
    "        Returns\n",
    "        -------\n",
    "        slc: list\n",
    "            List of SlcTerms associated with the penalty constraint\n",
    "        \n",
    "    '''\n",
    "\n",
    "    terms=[]\n",
    "    for i in range(0,n):\n",
    "        terms.append(Term(c= 1 , indices=[i]))\n",
    "    terms.append(Term(c=-b, indices=[]))\n",
    "    slc = []\n",
    "    slc.append(SlcTerm(\n",
    "            terms,\n",
    "            c=1\n",
    "        ))\n",
    "    return slc"
   ]
  },
  {
   "cell_type": "markdown",
   "id": "1e314cf3",
   "metadata": {},
   "source": [
    "Results"
   ]
  },
  {
   "cell_type": "code",
   "execution_count": 201,
   "id": "f918465e",
   "metadata": {},
   "outputs": [
    {
     "name": "stdout",
     "output_type": "stream",
     "text": [
      "Number of terms in return:  49\n",
      "Number of terms in risk:  2401\n"
     ]
    }
   ],
   "source": [
    "terms=[]\n",
    "t1 = Return(mu,n)\n",
    "t2 = risk(sigma,n,1)\n",
    "terms= t1+ t2 \n",
    "problem = Problem(name=\"Portfolio optimization\", problem_type=ProblemType.pubo, terms=terms)"
   ]
  },
  {
   "cell_type": "code",
   "execution_count": 202,
   "id": "67aa8985",
   "metadata": {},
   "outputs": [
    {
     "name": "stdout",
     "output_type": "stream",
     "text": [
      ".."
     ]
    }
   ],
   "source": [
    "solver = ParallelTempering(workspace)\n",
    "solution = solver.optimize(problem)"
   ]
  },
  {
   "cell_type": "code",
   "execution_count": 203,
   "id": "99f47b00",
   "metadata": {},
   "outputs": [
    {
     "name": "stdout",
     "output_type": "stream",
     "text": [
      "{'0': 1, '1': 1, '2': 0, '3': 1, '4': 1, '5': 0, '6': 1, '7': 0, '8': 0, '9': 0, '10': 0, '11': 0, '12': 0, '13': 0, '14': 0, '15': 0, '16': 0, '17': 1, '18': 0, '19': 0, '20': 0, '21': 0, '22': 0, '23': 0, '24': 1, '25': 0, '26': 0, '27': 1, '28': 0, '29': 0, '30': 0, '31': 0, '32': 0, '33': 0, '34': 0, '35': 0, '36': 0, '37': 0, '38': 0, '39': 1, '40': 1, '41': 1, '42': 1, '43': 0, '44': 0, '45': 0, '46': 1, '47': 0, '48': 0}\n",
      "\n",
      "Selected stocks are -\n",
      " ['ADANIENT', 'ADANIGREEN', 'ADANIPOWER', 'ADANITRANS', 'ATGL', 'HCLTECH', 'INFY', 'JSWSTEEL', 'SBIN', 'SIEMENS', 'SUNPHARMA', 'TATAMOTORS', 'TITAN']\n",
      "\n",
      "Price of selected stocks are -\n",
      " [2188.648926689398, 1906.6661531149095, 273.4378450035677, 2149.2141705744434, 2295.5344228094573, 997.2557371818474, 1476.0546642603206, 581.4109040683994, 461.347105474746, 2374.566375643609, 842.2730643765593, 415.93760931737654, 2046.4069499762488]\n"
     ]
    }
   ],
   "source": [
    "print(solution['configuration'])\n",
    "result = solution['configuration']\n",
    "#print(type(result))\n",
    "\n",
    "selected_stocks=[]\n",
    "prices_selected=[]\n",
    "index_prices_selected= []\n",
    "\n",
    "daily_prices = data.drop(['Time'], axis=1).to_numpy()\n",
    "#print(daily_prices)\n",
    "\n",
    "for i in result.keys():\n",
    "    if result[i]:\n",
    "        selected_stocks.append(stocks[int(i)])\n",
    "        prices_selected.append(cp[int(i)])\n",
    "        index_prices_selected.append(int(i))\n",
    "        \n",
    "print(\"\\nSelected stocks are -\\n\", selected_stocks)\n",
    "\n",
    "print(\"\\nPrice of selected stocks are -\\n\", prices_selected)"
   ]
  },
  {
   "cell_type": "code",
   "execution_count": 204,
   "id": "3ec91e1d",
   "metadata": {},
   "outputs": [],
   "source": [
    "def find_risk():\n",
    "\n",
    "    '''Calculates the risk for the optimised portfolio\n",
    "    \n",
    "    Parameters\n",
    "    ----------\n",
    "    None\n",
    "\n",
    "    Returns\n",
    "    -------\n",
    "    risk: float\n",
    "        risk value of the optimised portfolio\n",
    "    '''\n",
    "    \n",
    "    risk=0\n",
    "    for i in range(0,n):\n",
    "        for j in range(0,n):\n",
    "            t = 0.5 * result[str(i)]* result[str(j)]*sigma[i][j]\n",
    "            risk+=t\n",
    "    return risk"
   ]
  },
  {
   "cell_type": "code",
   "execution_count": 100,
   "id": "2095b40a",
   "metadata": {},
   "outputs": [],
   "source": [
    "\n",
    "def distributed_budget(B, arr, cp):\n",
    "\n",
    "    '''\n",
    "    Distributes the budget equally among all stocks to calculate the number of shares of each stock\n",
    "\n",
    "    Parameters-\n",
    "        B - Budget to be invested\n",
    "        arr- List of strings representing selected stocks \n",
    "        cp - A numpy matrix representing the current prices\n",
    "\n",
    "    Returns-\n",
    "        shares - list containing number of shares of each stock to select\n",
    "        \n",
    "    '''\n",
    "\n",
    "    shares=[]\n",
    "    distribution = B/len(arr)  \n",
    "\n",
    "    for i in range(len(arr)):\n",
    "        numberOfShares = math.floor(distribution/cp[index_prices_selected[i]])   \n",
    "        shares.append(numberOfShares)\n",
    "        print(arr[i], \" : \" ,shares[i],\" shares\")\n",
    "    return shares"
   ]
  },
  {
   "cell_type": "code",
   "execution_count": 205,
   "id": "f45d205f",
   "metadata": {},
   "outputs": [
    {
     "name": "stdout",
     "output_type": "stream",
     "text": [
      "ADANIENT  :  35  shares\n",
      "ADANIGREEN  :  40  shares\n",
      "ADANIPOWER  :  281  shares\n",
      "ADANITRANS  :  35  shares\n",
      "ATGL  :  33  shares\n",
      "HCLTECH  :  77  shares\n",
      "INFY  :  52  shares\n",
      "JSWSTEEL  :  132  shares\n",
      "SBIN  :  166  shares\n",
      "SIEMENS  :  32  shares\n",
      "SUNPHARMA  :  91  shares\n",
      "TATAMOTORS  :  184  shares\n",
      "TITAN  :  37  shares\n"
     ]
    },
    {
     "data": {
      "text/plain": [
       "13"
      ]
     },
     "execution_count": 205,
     "metadata": {},
     "output_type": "execute_result"
    }
   ],
   "source": [
    "no_of_shares = distributed_budget(1000000, selected_stocks, cp)\n",
    "len(no_of_shares)"
   ]
  },
  {
   "cell_type": "code",
   "execution_count": 208,
   "id": "89d47e47",
   "metadata": {},
   "outputs": [],
   "source": [
    "def find_expected_daily_return():\n",
    "    '''\n",
    "    Calculates the expected return for the optimised portfolio\n",
    "    \n",
    "    Parameters\n",
    "    ----------\n",
    "    None\n",
    "\n",
    "    Returns\n",
    "    -------\n",
    "    expected_dialy_roi: float\n",
    "        Expected daily return on inverstment of the optimised portfolio\n",
    "    \n",
    "    '''\n",
    "    expected_daily_roi=0\n",
    "    number_stocks = len(selected_stocks)\n",
    "    w = 1/ number_stocks\n",
    "    for i in range(0,number_stocks):\n",
    "        t = w * mu[index_prices_selected[i]]\n",
    "        expected_daily_roi+=t\n",
    "    return expected_daily_roi"
   ]
  },
  {
   "cell_type": "code",
   "execution_count": 209,
   "id": "020ddd1e",
   "metadata": {},
   "outputs": [
    {
     "name": "stdout",
     "output_type": "stream",
     "text": [
      "OPTIMIZSED PORTFOLIO :\n",
      "\n",
      "Constraints:\n",
      "\n",
      "Budget :  ₹ 1000000\n",
      "\n",
      "Risk Aversion index of : 1 \n",
      "\n",
      "\n",
      "Expected Daily Return on Investment :  0.307 %\n",
      "\n",
      "Expected Monthly Return on Investment :  9.198 %\n",
      "\n",
      "Expected Annual Return on Investment :  111.906 %\n",
      "\n",
      "Expected Annual Return:  ₹ 2119057.4\n",
      "\n",
      "Risk :  1.6369 %\n"
     ]
    }
   ],
   "source": [
    "# Printing results\n",
    "print(\"OPTIMIZSED PORTFOLIO :\")\n",
    "edroi = find_expected_daily_return()\n",
    "print(\"\\nConstraints:\")\n",
    "print(\"\\nBudget : \",  u\"\\u20B9\", 1000000)\n",
    "print(\"\\nRisk Aversion index of :\" , 1,\"\\n\")\n",
    "print(\"\\nExpected Daily Return on Investment : \", round(edroi*100,3), \"%\" )\n",
    "print(\"\\nExpected Monthly Return on Investment : \", round((edroi* 30 *100),3), \"%\")\n",
    "print(\"\\nExpected Annual Return on Investment : \", round((edroi*365 *100),3), \"%\")\n",
    "print(\"\\nExpected Annual Return: \",  u\"\\u20B9\", round((1000000 + edroi*365*1000000),1))\n",
    "print(\"\\nRisk : \", round(find_risk()*100,4) ,\"%\")"
   ]
  },
  {
   "cell_type": "code",
   "execution_count": 210,
   "id": "54b9e796",
   "metadata": {},
   "outputs": [
    {
     "name": "stdout",
     "output_type": "stream",
     "text": [
      "Actual retern on selected stocks:\n",
      "₹ 1105112.23\n",
      "\n",
      "Actual Monthly Return on Investment:  10.511223 %\n"
     ]
    }
   ],
   "source": [
    "market_price =[2552.27,2103.30,303.83,2990.07,2934.28,922.64,1459.18,597.86,519.36,2695.26,882.26,442.30,2292.48]\n",
    "len(market_price)\n",
    "print(\"Actual retern on selected stocks:\")\n",
    "current_value_of_investment = 0\n",
    "for i in range(len(market_price)):\n",
    "    current_value_of_investment = current_value_of_investment + (market_price[i] * no_of_shares[i])\n",
    "print(u\"\\u20B9\", current_value_of_investment)\n",
    "\n",
    "print(\"\\nActual Monthly Return on Investment: \", (((current_value_of_investment-1000000)/1000000)*100), \"%\")\n",
    "\n"
   ]
  },
  {
   "cell_type": "code",
   "execution_count": 211,
   "id": "31f0fa39",
   "metadata": {},
   "outputs": [
    {
     "name": "stdout",
     "output_type": "stream",
     "text": [
      "Number of terms in return:  49\n",
      "Number of terms in risk:  2401\n"
     ]
    }
   ],
   "source": [
    "terms=[]\n",
    "t1 = Return(mu,n)\n",
    "t2 = risk(sigma,n,1)\n",
    "t3 = budget_constraint(2*n,n,10)\n",
    "terms= t1+ t2 + t3\n",
    "problem = Problem(name=\"Portfolio optimization\", problem_type=ProblemType.pubo, terms=terms)"
   ]
  },
  {
   "cell_type": "code",
   "execution_count": 212,
   "id": "024f3f83",
   "metadata": {},
   "outputs": [
    {
     "name": "stdout",
     "output_type": "stream",
     "text": [
      "......."
     ]
    }
   ],
   "source": [
    "# Instantiate a solver to solve the problem. \n",
    "solver = ParallelTempering(workspace)\n",
    "\n",
    "# Optimize the problem\n",
    "solution = solver.optimize(problem)"
   ]
  },
  {
   "cell_type": "code",
   "execution_count": 213,
   "id": "9a8f5a52",
   "metadata": {},
   "outputs": [
    {
     "name": "stdout",
     "output_type": "stream",
     "text": [
      "{'0': 1, '1': 1, '2': 0, '3': 1, '4': 1, '5': 0, '6': 1, '7': 0, '8': 0, '9': 1, '10': 0, '11': 0, '12': 0, '13': 0, '14': 0, '15': 0, '16': 0, '17': 0, '18': 0, '19': 0, '20': 0, '21': 0, '22': 0, '23': 0, '24': 1, '25': 0, '26': 0, '27': 1, '28': 0, '29': 0, '30': 1, '31': 0, '32': 0, '33': 0, '34': 0, '35': 0, '36': 0, '37': 0, '38': 0, '39': 0, '40': 0, '41': 0, '42': 0, '43': 0, '44': 0, '45': 0, '46': 1, '47': 0, '48': 0}\n",
      "\n",
      "Selected stocks are -\n",
      " ['ADANIENT', 'ADANIGREEN', 'ADANIPOWER', 'ADANITRANS', 'ATGL', 'BAJAJFINSV', 'INFY', 'JSWSTEEL', 'M&M', 'TITAN']\n",
      "\n",
      "Price of selected stocks are -\n",
      " [2188.648926689398, 1906.6661531149095, 273.4378450035677, 2149.2141705744434, 2295.5344228094573, 11673.402581904968, 1476.0546642603206, 581.4109040683994, 1082.335401291108, 2046.4069499762488]\n"
     ]
    }
   ],
   "source": [
    "print(solution['configuration'])\n",
    "result = solution['configuration']\n",
    "\n",
    "selected_stocks=[]\n",
    "prices_selected=[]\n",
    "index_prices_selected= []\n",
    "\n",
    "daily_prices = data.drop(['Time'], axis=1).to_numpy()\n",
    "\n",
    "\n",
    "for i in result.keys():\n",
    "    if result[i]:\n",
    "        selected_stocks.append(stocks[int(i)])\n",
    "        prices_selected.append(cp[int(i)])\n",
    "        index_prices_selected.append(int(i))\n",
    "        \n",
    "print(\"\\nSelected stocks are -\\n\", selected_stocks)\n",
    "\n",
    "print(\"\\nPrice of selected stocks are -\\n\", prices_selected)"
   ]
  },
  {
   "cell_type": "code",
   "execution_count": 214,
   "id": "95f754e0",
   "metadata": {},
   "outputs": [
    {
     "name": "stdout",
     "output_type": "stream",
     "text": [
      "\n",
      " DIVERSIFIED PORTFOLIO:\n",
      "ADANIENT  :  45  shares\n",
      "ADANIGREEN  :  52  shares\n",
      "ADANIPOWER  :  365  shares\n",
      "ADANITRANS  :  46  shares\n",
      "ATGL  :  43  shares\n",
      "BAJAJFINSV  :  8  shares\n",
      "INFY  :  67  shares\n",
      "JSWSTEEL  :  171  shares\n",
      "M&M  :  92  shares\n",
      "TITAN  :  48  shares\n",
      "\n",
      "Constraints:\n",
      "\n",
      "Budget :  ₹ 1000000\n",
      "\n",
      "Stock Appetite:  10  stocks\n",
      "\n",
      "Risk Aversion index of : 1 \n",
      "\n",
      "\n",
      "Expected Daily Return on Investment :  0.336 %\n",
      "\n",
      "Expected Monthly Return on Investment :  4.035 %\n",
      "\n",
      "Risk :  1.1846 %\n"
     ]
    }
   ],
   "source": [
    "# Printing results\n",
    "\n",
    "print(\"\\n DIVERSIFIED PORTFOLIO:\")\n",
    "no_of_shares = distributed_budget(1000000, selected_stocks, cp)\n",
    "edroi = find_expected_daily_return()\n",
    "print(\"\\nConstraints:\")\n",
    "print(\"\\nBudget : \",  u\"\\u20B9\", 1000000)\n",
    "print(\"\\nStock Appetite: \", 10, \" stocks\")\n",
    "print(\"\\nRisk Aversion index of :\" , 1,\"\\n\")\n",
    "print(\"\\nExpected Daily Return on Investment : \", round(edroi*100,3), \"%\" )\n",
    "print(\"\\nExpected Monthly Return on Investment : \", round((edroi * 12 *100),3), \"%\")\n",
    "print(\"\\nRisk : \", round(find_risk()*100,4) ,\"%\")"
   ]
  }
 ],
 "metadata": {
  "kernelspec": {
   "display_name": "Python 3.9.12 ('qsharp-env')",
   "language": "python",
   "name": "python3"
  },
  "language_info": {
   "codemirror_mode": {
    "name": "ipython",
    "version": 3
   },
   "file_extension": ".py",
   "mimetype": "text/x-python",
   "name": "python",
   "nbconvert_exporter": "python",
   "pygments_lexer": "ipython3",
   "version": "3.8.10"
  },
  "vscode": {
   "interpreter": {
    "hash": "a0c90c5f8d186b65746168799a0a49669e5748d92ec2b103a15f0f0e36a3d9f3"
   }
  }
 },
 "nbformat": 4,
 "nbformat_minor": 5
}
