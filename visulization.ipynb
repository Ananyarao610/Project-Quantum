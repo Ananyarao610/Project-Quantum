{
 "cells": [
  {
   "cell_type": "code",
   "execution_count": 2,
   "metadata": {},
   "outputs": [],
   "source": [
    "import os                              \n",
    "import numpy as np\n",
    "from numpy import number                    \n",
    "import pandas as pd                     \n",
    "import matplotlib.pyplot as plt  \n",
    "import math\n",
    "from typing import List\n",
    "from azure.quantum.optimization import Problem, ProblemType, Term\n",
    "from azure.quantum.optimization import ParallelTempering\n",
    "from azure.quantum.optimization import Term, SlcTerm"
   ]
  },
  {
   "cell_type": "code",
   "execution_count": 3,
   "metadata": {},
   "outputs": [
    {
     "ename": "NameError",
     "evalue": "name 'data' is not defined",
     "output_type": "error",
     "traceback": [
      "\u001b[0;31m---------------------------------------------------------------------------\u001b[0m",
      "\u001b[0;31mNameError\u001b[0m                                 Traceback (most recent call last)",
      "\u001b[1;32m/home/ananya/Desktop/Microsoft/Project-Quantum/visulization.ipynb Cell 2'\u001b[0m in \u001b[0;36m<cell line: 1>\u001b[0;34m()\u001b[0m\n\u001b[0;32m----> <a href='vscode-notebook-cell:/home/ananya/Desktop/Microsoft/Project-Quantum/visulization.ipynb#ch0000000?line=0'>1</a>\u001b[0m portfolio \u001b[39m=\u001b[39m pd\u001b[39m.\u001b[39mDataFrame(data[\u001b[39m'\u001b[39m\u001b[39mTime\u001b[39m\u001b[39m'\u001b[39m])\n\u001b[1;32m      <a href='vscode-notebook-cell:/home/ananya/Desktop/Microsoft/Project-Quantum/visulization.ipynb#ch0000000?line=1'>2</a>\u001b[0m \u001b[39mfor\u001b[39;00m i \u001b[39min\u001b[39;00m \u001b[39mrange\u001b[39m(\u001b[39mlen\u001b[39m(selected_stocks)):\n\u001b[1;32m      <a href='vscode-notebook-cell:/home/ananya/Desktop/Microsoft/Project-Quantum/visulization.ipynb#ch0000000?line=2'>3</a>\u001b[0m        portfolio \u001b[39m=\u001b[39m portfolio\u001b[39m.\u001b[39mjoin(data[data\u001b[39m.\u001b[39mcolumns[\u001b[39m1\u001b[39m\u001b[39m+\u001b[39mindex_prices_selected[i]]])\n",
      "\u001b[0;31mNameError\u001b[0m: name 'data' is not defined"
     ]
    }
   ],
   "source": [
    "portfolio = pd.DataFrame(data['Time'])\n",
    "for i in range(len(selected_stocks)):\n",
    "       portfolio = portfolio.join(data[data.columns[1+index_prices_selected[i]]])\n",
    "       \n",
    "pr = portfolio[(portfolio['Time'] >= '2020-06-27')] \\\n",
    "    .drop(['Time'], axis=1) \\\n",
    "    .pct_change(fill_method='ffill')\n",
    "pr.head()\n",
    "\n",
    "pmu = pr.mean().to_numpy()\n",
    "psigma = pr.cov().to_numpy()"
   ]
  },
  {
   "cell_type": "code",
   "execution_count": null,
   "metadata": {},
   "outputs": [],
   "source": [
    "portfolio.plot(x ='Time', y = portfolio.columns[1:], kind = 'line')\n",
    "plt.legend(bbox_to_anchor=(1,1))\n",
    "plt.ylabel('Price in \\u20B9')\n",
    "plt.show()"
   ]
  },
  {
   "cell_type": "code",
   "execution_count": null,
   "metadata": {},
   "outputs": [],
   "source": [
    "def find_expected_daily_return_sp(weights,portfolio_mu,n):\n",
    "    '''\n",
    "    Calculates the expected return for the optimised portfolio\n",
    "    \n",
    "    Parameters\n",
    "    ----------\n",
    "    weights: np.array\n",
    "        weights of the selected stocks\n",
    "\n",
    "    Returns\n",
    "    -------\n",
    "    expected_dialy_roi: float\n",
    "        Expected daily return on inverstment of the optimised portfolio\n",
    "    \n",
    "    '''\n",
    "    expected_daily_roi=0\n",
    "    for i in range(0,n):\n",
    "        t = weights[i] * portfolio_mu[i]\n",
    "        expected_daily_roi+=t\n",
    "    return expected_daily_roi"
   ]
  },
  {
   "cell_type": "code",
   "execution_count": null,
   "metadata": {},
   "outputs": [],
   "source": [
    "from statistics import variance\n",
    "\n",
    "\n",
    "def find_risk_sp(weights,portfolio_var,n):\n",
    "\n",
    "    '''Calculates the risk for the optimised portfolio\n",
    "    \n",
    "    Parameters\n",
    "    ----------\n",
    "    B: float\n",
    "        budget to be equally invested\n",
    "    weights: np.array\n",
    "        weights of the selected stocks\n",
    "\n",
    "    Returns\n",
    "    -------\n",
    "    risk_perc: float\n",
    "        percetnage risk value of the optimised portfolio with given budget\n",
    "    '''\n",
    "    \n",
    "    var=0\n",
    "    for i in range(0,n):\n",
    "        for j in range(0,n):\n",
    "            t = weights[i]  * weights[j] * portfolio_var[i][j]\n",
    "            var+=t\n",
    "    risk = var**0.5\n",
    "    risk_perc = risk * 100\n",
    "    return risk_perc"
   ]
  },
  {
   "cell_type": "code",
   "execution_count": null,
   "metadata": {},
   "outputs": [],
   "source": [
    "def randomly_weighted_portfolios_with_selected_stocks(nof_portfolio, portfolio_return, portfolio_sigma):\n",
    "    all_w_list = []\n",
    "    all_b_list = []\n",
    "    weight = np.random.random(len(selected_stocks))\n",
    "    weight /= np.sum(weight)\n",
    "    all_w_list.append(weight)\n",
    "    random_portfolios = np.zeros((2,nof_portfolio))\n",
    "    for i in range(nof_portfolio):\n",
    "        weight = np.random.random(len(selected_stocks))\n",
    "        weight /= np.sum(weight)\n",
    "        all_w_list.append(weight)\n",
    "        random_portfolios[0,i] = find_expected_daily_return_sp(weight, portfolio_return,len(selected_stocks))*30*100\n",
    "        random_portfolios[1,i] = find_risk_sp(weight, portfolio_sigma,len(selected_stocks))\n",
    "    return random_portfolios"
   ]
  },
  {
   "cell_type": "code",
   "execution_count": null,
   "metadata": {},
   "outputs": [],
   "source": [
    "def visualize_efficient_frontier_for_selected_stocks():\n",
    "    simulated_portfolios = randomly_weighted_portfolios_with_selected_stocks(25000,pmu,psigma)\n",
    "    plt.figure(figsize=(10, 7))\n",
    "    plt.scatter(simulated_portfolios[1,:],simulated_portfolios[0,:],cmap='YlGnBu', marker='o', s=10, alpha=0.3)\n",
    "    plt.colorbar()\n",
    "    plt.title('Simulated Portfolio Optimization based on Efficient Frontier')\n",
    "    plt.ylabel('Expected Monthly retrun on investment')\n",
    "    plt.xlabel('Risk Percentage')\n",
    "    plt.show()"
   ]
  },
  {
   "cell_type": "code",
   "execution_count": null,
   "metadata": {},
   "outputs": [],
   "source": [
    "from pypfopt import risk_models\n",
    "from pypfopt import plotting\n",
    "from pypfopt import expected_returns\n",
    "\n",
    "\n",
    "all_prices=  data.drop(['Time'], axis=1)\n",
    "sample_cov = risk_models.sample_cov(all_prices, frequency=252)\n",
    "muc = expected_returns.mean_historical_return(all_prices)\n",
    "\n",
    "\n",
    "w_classical = [0.0161,0.24485, 0.10312 , 0.23497, 0.01057, 0.20492, 0.13906, 0.04642]\n",
    "w_classical_all = [0,0.0161,0,0.24485,0.10312,0,0.23497,0,0,0,0,0.01057,0,0,0,0,0,0,0,0,0,0,0,0,0,0,0.20492,0,0,0,0.13906,0,0,0,0,0,0,0,0,0,0,0.04642,0,0,0,0,0,0,0]\n",
    "return_based_on_classical_w = find_expected_daily_return_sp(w_classical, muc, 8)*22\n",
    "\n",
    "risk_based_on_classical_w  = find_risk_sp(w_classical_all, (sample_cov.reset_index(drop = True)).to_numpy(), 49)\n",
    "print(return_based_on_classical_w,risk_based_on_classical_w)\n"
   ]
  },
  {
   "cell_type": "code",
   "execution_count": null,
   "metadata": {},
   "outputs": [],
   "source": [
    "quantum_risk = find_risk()\n",
    "quantum_return = edroi * 22 *100\n",
    "print(quantum_risk,quantum_return)"
   ]
  },
  {
   "cell_type": "code",
   "execution_count": null,
   "metadata": {},
   "outputs": [],
   "source": [
    "visualize_efficient_frontier_for_selected_stocks()"
   ]
  }
 ],
 "metadata": {
  "interpreter": {
   "hash": "916dbcbb3f70747c44a77c7bcd40155683ae19c65e1c03b4aa3499c5328201f1"
  },
  "kernelspec": {
   "display_name": "Python 3.8.10 64-bit",
   "language": "python",
   "name": "python3"
  },
  "language_info": {
   "codemirror_mode": {
    "name": "ipython",
    "version": 3
   },
   "file_extension": ".py",
   "mimetype": "text/x-python",
   "name": "python",
   "nbconvert_exporter": "python",
   "pygments_lexer": "ipython3",
   "version": "3.8.10"
  },
  "orig_nbformat": 4
 },
 "nbformat": 4,
 "nbformat_minor": 2
}
